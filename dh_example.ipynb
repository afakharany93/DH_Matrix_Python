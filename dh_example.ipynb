{
 "cells": [
  {
   "cell_type": "code",
   "execution_count": 1,
   "metadata": {},
   "outputs": [],
   "source": [
    "from dh import dh_solver\n",
    "from IPython.display import Latex \n",
    "import sympy\n",
    "from sympy import Symbol"
   ]
  },
  {
   "cell_type": "code",
   "execution_count": 11,
   "metadata": {},
   "outputs": [],
   "source": [
    "#create an object \n",
    "mtb = dh_solver()"
   ]
  },
  {
   "cell_type": "markdown",
   "metadata": {},
   "source": [
    "## adding the dh paramters\n",
    "hust use obj.add() method to add a set of dh paramters in the kinematic chain, the first one to add is the base and the last one is the end effector, the method takes input a list \\[ d, theta, a, alpha\\]\n",
    "\n",
    "you can get the parameters from vrep http://www.forum.coppeliarobotics.com/viewtopic.php?f=9&t=5367"
   ]
  },
  {
   "cell_type": "code",
   "execution_count": 12,
   "metadata": {},
   "outputs": [],
   "source": [
    "#you can add the paramters wiht the variable as string\n",
    "mtb.add([0,\"theta1\",0.467,0])\n",
    "#or you can add the variable as a Sympy symbol, in this case you can also shift the variable\n",
    "mtb.add([0,Symbol(\"theta2\")+sympy.pi/2,0.4005,0])\n",
    "mtb.add([0.2,sympy.pi/3,0,\"alpha3\"])"
   ]
  },
  {
   "cell_type": "code",
   "execution_count": 13,
   "metadata": {},
   "outputs": [
    {
     "name": "stderr",
     "output_type": "stream",
     "text": [
      "100%|██████████| 3/3 [00:00<00:00, 68.64it/s]\n"
     ]
    }
   ],
   "source": [
    "#to get the dh matrices in symbolic form\n",
    "T = mtb.calc_symbolic_matrices()"
   ]
  },
  {
   "cell_type": "code",
   "execution_count": 14,
   "metadata": {
    "scrolled": true
   },
   "outputs": [
    {
     "data": {
      "text/plain": [
       "Matrix([\n",
       "[(-sin(theta1)*sin(theta2)*cos(alpha1) + cos(theta1)*cos(theta2))*cos(theta3) + (sin(alpha1)*sin(alpha2)*sin(theta1) - sin(theta1)*cos(alpha1)*cos(alpha2)*cos(theta2) - sin(theta2)*cos(alpha2)*cos(theta1))*sin(theta3),  -(-sin(theta1)*sin(theta2)*cos(alpha1) + cos(theta1)*cos(theta2))*sin(theta3)*cos(alpha3) + (sin(alpha1)*sin(alpha2)*sin(theta1) - sin(theta1)*cos(alpha1)*cos(alpha2)*cos(theta2) - sin(theta2)*cos(alpha2)*cos(theta1))*cos(alpha3)*cos(theta3) + (sin(alpha1)*sin(theta1)*cos(alpha2) + sin(alpha2)*sin(theta1)*cos(alpha1)*cos(theta2) + sin(alpha2)*sin(theta2)*cos(theta1))*sin(alpha3),  (-sin(theta1)*sin(theta2)*cos(alpha1) + cos(theta1)*cos(theta2))*sin(alpha3)*sin(theta3) - (sin(alpha1)*sin(alpha2)*sin(theta1) - sin(theta1)*cos(alpha1)*cos(alpha2)*cos(theta2) - sin(theta2)*cos(alpha2)*cos(theta1))*sin(alpha3)*cos(theta3) + (sin(alpha1)*sin(theta1)*cos(alpha2) + sin(alpha2)*sin(theta1)*cos(alpha1)*cos(theta2) + sin(alpha2)*sin(theta2)*cos(theta1))*cos(alpha3),  a1*cos(theta1) - a2*sin(alpha2)*sin(theta1)*cos(alpha1) + a2*cos(theta1)*cos(theta2) + a3*(-sin(theta1)*sin(theta2)*cos(alpha1) + cos(theta1)*cos(theta2))*cos(theta3) + a3*(sin(alpha1)*sin(alpha2)*sin(theta1) - sin(theta1)*cos(alpha1)*cos(alpha2)*cos(theta2) - sin(theta2)*cos(alpha2)*cos(theta1))*sin(alpha3) + d2*sin(alpha1)*sin(theta1) + d3*(sin(alpha1)*sin(theta1)*cos(alpha2) + sin(alpha2)*sin(theta1)*cos(alpha1)*cos(theta2) + sin(alpha2)*sin(theta2)*cos(theta1))],\n",
       "[(sin(theta1)*cos(theta2) + sin(theta2)*cos(alpha1)*cos(theta1))*cos(theta3) + (-sin(alpha1)*sin(alpha2)*cos(theta1) - sin(theta1)*sin(theta2)*cos(alpha2) + cos(alpha1)*cos(alpha2)*cos(theta1)*cos(theta2))*sin(theta3), -(sin(theta1)*cos(theta2) + sin(theta2)*cos(alpha1)*cos(theta1))*sin(theta3)*cos(alpha3) + (-sin(alpha1)*sin(alpha2)*cos(theta1) - sin(theta1)*sin(theta2)*cos(alpha2) + cos(alpha1)*cos(alpha2)*cos(theta1)*cos(theta2))*cos(alpha3)*cos(theta3) + (-sin(alpha1)*cos(alpha2)*cos(theta1) + sin(alpha2)*sin(theta1)*sin(theta2) - sin(alpha2)*cos(alpha1)*cos(theta1)*cos(theta2))*sin(alpha3), (sin(theta1)*cos(theta2) + sin(theta2)*cos(alpha1)*cos(theta1))*sin(alpha3)*sin(theta3) - (-sin(alpha1)*sin(alpha2)*cos(theta1) - sin(theta1)*sin(theta2)*cos(alpha2) + cos(alpha1)*cos(alpha2)*cos(theta1)*cos(theta2))*sin(alpha3)*cos(theta3) + (-sin(alpha1)*cos(alpha2)*cos(theta1) + sin(alpha2)*sin(theta1)*sin(theta2) - sin(alpha2)*cos(alpha1)*cos(theta1)*cos(theta2))*cos(alpha3), a1*sin(alpha1) + a2*sin(alpha2)*cos(alpha1)*cos(theta1) + a2*sin(theta1)*cos(theta2) + a3*(sin(theta1)*cos(theta2) + sin(theta2)*cos(alpha1)*cos(theta1))*cos(theta3) + a3*(-sin(alpha1)*sin(alpha2)*cos(theta1) - sin(theta1)*sin(theta2)*cos(alpha2) + cos(alpha1)*cos(alpha2)*cos(theta1)*cos(theta2))*sin(alpha3) - d2*sin(alpha1)*cos(theta1) + d3*(-sin(alpha1)*cos(alpha2)*cos(theta1) + sin(alpha2)*sin(theta1)*sin(theta2) - sin(alpha2)*cos(alpha1)*cos(theta1)*cos(theta2))],\n",
       "[                                                                                                       (sin(alpha1)*cos(alpha2)*cos(theta2) + sin(alpha2)*cos(alpha1))*sin(theta3) + sin(alpha1)*sin(theta2)*cos(theta3),                                                                                                                                                                       (-sin(alpha1)*sin(alpha2)*cos(theta2) + cos(alpha1)*cos(alpha2))*sin(alpha3) + (sin(alpha1)*cos(alpha2)*cos(theta2) + sin(alpha2)*cos(alpha1))*cos(alpha3)*cos(theta3) - sin(alpha1)*sin(theta2)*sin(theta3)*cos(alpha3),                                                                                                                                                                      (-sin(alpha1)*sin(alpha2)*cos(theta2) + cos(alpha1)*cos(alpha2))*cos(alpha3) - (sin(alpha1)*cos(alpha2)*cos(theta2) + sin(alpha2)*cos(alpha1))*sin(alpha3)*cos(theta3) + sin(alpha1)*sin(alpha3)*sin(theta2)*sin(theta3),                                                                                                                                                                                                                                       a2*sin(alpha1)*sin(alpha2) + a3*(sin(alpha1)*cos(alpha2)*cos(theta2) + sin(alpha2)*cos(alpha1))*sin(alpha3) + a3*sin(alpha1)*sin(theta2)*cos(theta3) + d1 + d2*cos(alpha1) + d3*(-sin(alpha1)*sin(alpha2)*cos(theta2) + cos(alpha1)*cos(alpha2))],\n",
       "[                                                                                                                                                                                                                       0,                                                                                                                                                                                                                                                                                                                                                                                              0,                                                                                                                                                                                                                                                                                                                                                                                             0,                                                                                                                                                                                                                                                                                                                                                                                                                                                                                      1]])"
      ]
     },
     "execution_count": 14,
     "metadata": {},
     "output_type": "execute_result"
    }
   ],
   "source": [
    "T"
   ]
  },
  {
   "cell_type": "code",
   "execution_count": 29,
   "metadata": {
    "scrolled": true
   },
   "outputs": [
    {
     "data": {
      "text/plain": [
       "Matrix([\n",
       "[-(sin(theta1)*sin(theta2)*cos(alpha1) - cos(theta1)*cos(theta2))*cos(theta3) - (-sin(alpha1)*sin(alpha2)*sin(theta1) + sin(theta1)*cos(alpha1)*cos(alpha2)*cos(theta2) + sin(theta2)*cos(alpha2)*cos(theta1))*sin(theta3), (sin(theta1)*sin(theta2)*cos(alpha1) - cos(theta1)*cos(theta2))*sin(theta3)*cos(alpha3) - (-sin(alpha1)*sin(alpha2)*sin(theta1) + sin(theta1)*cos(alpha1)*cos(alpha2)*cos(theta2) + sin(theta2)*cos(alpha2)*cos(theta1))*cos(alpha3)*cos(theta3) + (sin(alpha1)*sin(theta1)*cos(alpha2) + sin(alpha2)*sin(theta1)*cos(alpha1)*cos(theta2) + sin(alpha2)*sin(theta2)*cos(theta1))*sin(alpha3), -(sin(theta1)*sin(theta2)*cos(alpha1) - cos(theta1)*cos(theta2))*sin(alpha3)*sin(theta3) + (-sin(alpha1)*sin(alpha2)*sin(theta1) + sin(theta1)*cos(alpha1)*cos(alpha2)*cos(theta2) + sin(theta2)*cos(alpha2)*cos(theta1))*sin(alpha3)*cos(theta3) + (sin(alpha1)*sin(theta1)*cos(alpha2) + sin(alpha2)*sin(theta1)*cos(alpha1)*cos(theta2) + sin(alpha2)*sin(theta2)*cos(theta1))*cos(alpha3), a1*cos(theta1) - a2*sin(alpha2)*sin(theta1)*cos(alpha1) + a2*cos(theta1)*cos(theta2) - a3*(sin(theta1)*sin(theta2)*cos(alpha1) - cos(theta1)*cos(theta2))*cos(theta3) - a3*(-sin(alpha1)*sin(alpha2)*sin(theta1) + sin(theta1)*cos(alpha1)*cos(alpha2)*cos(theta2) + sin(theta2)*cos(alpha2)*cos(theta1))*sin(alpha3) + d2*sin(alpha1)*sin(theta1) + d3*(sin(alpha1)*sin(theta1)*cos(alpha2) + sin(alpha2)*sin(theta1)*cos(alpha1)*cos(theta2) + sin(alpha2)*sin(theta2)*cos(theta1))],\n",
       "[  (sin(theta1)*cos(theta2) + sin(theta2)*cos(alpha1)*cos(theta1))*cos(theta3) - (sin(alpha1)*sin(alpha2)*cos(theta1) + sin(theta1)*sin(theta2)*cos(alpha2) - cos(alpha1)*cos(alpha2)*cos(theta1)*cos(theta2))*sin(theta3), -(sin(theta1)*cos(theta2) + sin(theta2)*cos(alpha1)*cos(theta1))*sin(theta3)*cos(alpha3) - (sin(alpha1)*sin(alpha2)*cos(theta1) + sin(theta1)*sin(theta2)*cos(alpha2) - cos(alpha1)*cos(alpha2)*cos(theta1)*cos(theta2))*cos(alpha3)*cos(theta3) - (sin(alpha1)*cos(alpha2)*cos(theta1) - sin(alpha2)*sin(theta1)*sin(theta2) + sin(alpha2)*cos(alpha1)*cos(theta1)*cos(theta2))*sin(alpha3),   (sin(theta1)*cos(theta2) + sin(theta2)*cos(alpha1)*cos(theta1))*sin(alpha3)*sin(theta3) + (sin(alpha1)*sin(alpha2)*cos(theta1) + sin(theta1)*sin(theta2)*cos(alpha2) - cos(alpha1)*cos(alpha2)*cos(theta1)*cos(theta2))*sin(alpha3)*cos(theta3) - (sin(alpha1)*cos(alpha2)*cos(theta1) - sin(alpha2)*sin(theta1)*sin(theta2) + sin(alpha2)*cos(alpha1)*cos(theta1)*cos(theta2))*cos(alpha3),  a1*sin(alpha1) + a2*sin(alpha2)*cos(alpha1)*cos(theta1) + a2*sin(theta1)*cos(theta2) + a3*(sin(theta1)*cos(theta2) + sin(theta2)*cos(alpha1)*cos(theta1))*cos(theta3) - a3*(sin(alpha1)*sin(alpha2)*cos(theta1) + sin(theta1)*sin(theta2)*cos(alpha2) - cos(alpha1)*cos(alpha2)*cos(theta1)*cos(theta2))*sin(alpha3) - d2*sin(alpha1)*cos(theta1) - d3*(sin(alpha1)*cos(alpha2)*cos(theta1) - sin(alpha2)*sin(theta1)*sin(theta2) + sin(alpha2)*cos(alpha1)*cos(theta1)*cos(theta2))],\n",
       "[                                                                                                        (sin(alpha1)*cos(alpha2)*cos(theta2) + sin(alpha2)*cos(alpha1))*sin(theta3) + sin(alpha1)*sin(theta2)*cos(theta3),                                                                                                                                                                     -(sin(alpha1)*sin(alpha2)*cos(theta2) - cos(alpha1)*cos(alpha2))*sin(alpha3) + (sin(alpha1)*cos(alpha2)*cos(theta2) + sin(alpha2)*cos(alpha1))*cos(alpha3)*cos(theta3) - sin(alpha1)*sin(theta2)*sin(theta3)*cos(alpha3),                                                                                                                                                                      -(sin(alpha1)*sin(alpha2)*cos(theta2) - cos(alpha1)*cos(alpha2))*cos(alpha3) - (sin(alpha1)*cos(alpha2)*cos(theta2) + sin(alpha2)*cos(alpha1))*sin(alpha3)*cos(theta3) + sin(alpha1)*sin(alpha3)*sin(theta2)*sin(theta3),                                                                                                                                                                                                                                       a2*sin(alpha1)*sin(alpha2) + a3*(sin(alpha1)*cos(alpha2)*cos(theta2) + sin(alpha2)*cos(alpha1))*sin(alpha3) + a3*sin(alpha1)*sin(theta2)*cos(theta3) + d1 + d2*cos(alpha1) - d3*(sin(alpha1)*sin(alpha2)*cos(theta2) - cos(alpha1)*cos(alpha2))],\n",
       "[                                                                                                                                                                                                                        0,                                                                                                                                                                                                                                                                                                                                                                                            0,                                                                                                                                                                                                                                                                                                                                                                                             0,                                                                                                                                                                                                                                                                                                                                                                                                                                                                                     1]])"
      ]
     },
     "execution_count": 29,
     "metadata": {},
     "output_type": "execute_result"
    }
   ],
   "source": [
    "#simplifing T\n",
    "sympy.simplify(T)"
   ]
  },
  {
   "cell_type": "code",
   "execution_count": 18,
   "metadata": {},
   "outputs": [
    {
     "data": {
      "text/plain": [
       "[Matrix([\n",
       " [cos(theta1), -sin(theta1)*cos(alpha1),  sin(alpha1)*sin(theta1), a1*cos(theta1)],\n",
       " [sin(theta1),  cos(alpha1)*cos(theta1), -sin(alpha1)*cos(theta1), a1*sin(alpha1)],\n",
       " [          0,              sin(alpha1),              cos(alpha1),             d1],\n",
       " [          0,                        0,                        0,              1]]),\n",
       " Matrix([\n",
       " [cos(theta2), -sin(theta2)*cos(alpha2),  sin(alpha2)*sin(theta2), a2*cos(theta2)],\n",
       " [sin(theta2),  cos(alpha2)*cos(theta2), -sin(alpha2)*cos(theta2), a2*sin(alpha2)],\n",
       " [          0,              sin(alpha2),              cos(alpha2),             d2],\n",
       " [          0,                        0,                        0,              1]]),\n",
       " Matrix([\n",
       " [cos(theta3), -sin(theta3)*cos(alpha3),  sin(alpha3)*sin(theta3), a3*cos(theta3)],\n",
       " [sin(theta3),  cos(alpha3)*cos(theta3), -sin(alpha3)*cos(theta3), a3*sin(alpha3)],\n",
       " [          0,              sin(alpha3),              cos(alpha3),             d3],\n",
       " [          0,                        0,                        0,              1]])]"
      ]
     },
     "execution_count": 18,
     "metadata": {},
     "output_type": "execute_result"
    }
   ],
   "source": [
    "#to get the intermediate the transormation matrices\n",
    "mtb.T_list"
   ]
  },
  {
   "cell_type": "code",
   "execution_count": 19,
   "metadata": {},
   "outputs": [
    {
     "name": "stderr",
     "output_type": "stream",
     "text": [
      "100%|██████████| 3/3 [00:00<00:00, 69.32it/s]\n",
      "100%|██████████| 3/3 [00:00<00:00, 17.50it/s]\n"
     ]
    }
   ],
   "source": [
    "#to get the matrix with the constants substituted\n",
    "T1 = mtb.calc_dh_matrix()"
   ]
  },
  {
   "cell_type": "code",
   "execution_count": 23,
   "metadata": {},
   "outputs": [],
   "source": [
    "T2 = sympy.simplify(T1)"
   ]
  },
  {
   "cell_type": "code",
   "execution_count": 24,
   "metadata": {},
   "outputs": [
    {
     "data": {
      "text/plain": [
       "Matrix([\n",
       "[-sin(theta1 + theta2 + pi/3), -cos(alpha3)*cos(theta1 + theta2 + pi/3), sin(alpha3)*cos(theta1 + theta2 + pi/3), (-0.4005*sin(theta2) + 0.467)*cos(theta1)],\n",
       "[ cos(theta1 + theta2 + pi/3), -sin(theta1 + theta2 + pi/3)*cos(alpha3), sin(alpha3)*sin(theta1 + theta2 + pi/3),           -0.4005*sin(theta1)*sin(theta2)],\n",
       "[                           0,                              sin(alpha3),                             cos(alpha3),                                       0.2],\n",
       "[                           0,                                        0,                                       0,                                         1]])"
      ]
     },
     "execution_count": 24,
     "metadata": {},
     "output_type": "execute_result"
    }
   ],
   "source": [
    "T2"
   ]
  },
  {
   "cell_type": "code",
   "execution_count": 25,
   "metadata": {},
   "outputs": [
    {
     "data": {
      "text/latex": [
       "\\left[\\begin{matrix}- \\sin{\\left (\\theta_{1} + \\theta_{2} + \\frac{\\pi}{3} \\right )} & - \\cos{\\left (\\alpha_{3} \\right )} \\cos{\\left (\\theta_{1} + \\theta_{2} + \\frac{\\pi}{3} \\right )} & \\sin{\\left (\\alpha_{3} \\right )} \\cos{\\left (\\theta_{1} + \\theta_{2} + \\frac{\\pi}{3} \\right )} & \\left(- 0.4005 \\sin{\\left (\\theta_{2} \\right )} + 0.467\\right) \\cos{\\left (\\theta_{1} \\right )}\\\\\\cos{\\left (\\theta_{1} + \\theta_{2} + \\frac{\\pi}{3} \\right )} & - \\sin{\\left (\\theta_{1} + \\theta_{2} + \\frac{\\pi}{3} \\right )} \\cos{\\left (\\alpha_{3} \\right )} & \\sin{\\left (\\alpha_{3} \\right )} \\sin{\\left (\\theta_{1} + \\theta_{2} + \\frac{\\pi}{3} \\right )} & - 0.4005 \\sin{\\left (\\theta_{1} \\right )} \\sin{\\left (\\theta_{2} \\right )}\\\\0 & \\sin{\\left (\\alpha_{3} \\right )} & \\cos{\\left (\\alpha_{3} \\right )} & 0.2\\\\0 & 0 & 0 & 1\\end{matrix}\\right]"
      ],
      "text/plain": [
       "<IPython.core.display.Latex object>"
      ]
     },
     "execution_count": 25,
     "metadata": {},
     "output_type": "execute_result"
    }
   ],
   "source": [
    "#printing T2 in latex \n",
    "a = sympy.latex(T2)\n",
    "Latex(a)"
   ]
  },
  {
   "cell_type": "code",
   "execution_count": 27,
   "metadata": {},
   "outputs": [],
   "source": [
    "#to substitute with the variables and return a numpy array of floats, all variables must be subistituted\n",
    "arr = mtb.get_numpy_matrix([ [\"theta0\", sympy.pi/2], [\"theta1\", sympy.pi/3] ,[\"alpha2\", sympy.pi/6]])"
   ]
  },
  {
   "cell_type": "code",
   "execution_count": 28,
   "metadata": {},
   "outputs": [
    {
     "data": {
      "text/plain": [
       "array([[  6.92347016e-310,   1.18062401e-316,   1.58101007e-322,\n",
       "          1.58101007e-322],\n",
       "       [  1.30458627e-316,   6.92345046e-310,   3.16202013e-322,\n",
       "          1.58101007e-322],\n",
       "       [  1.18062401e-316,   1.39962157e-316,   4.74303020e-322,\n",
       "          2.00000000e-001],\n",
       "       [  0.00000000e+000,   0.00000000e+000,   0.00000000e+000,\n",
       "          1.00000000e+000]])"
      ]
     },
     "execution_count": 28,
     "metadata": {},
     "output_type": "execute_result"
    }
   ],
   "source": [
    "arr"
   ]
  },
  {
   "cell_type": "markdown",
   "metadata": {},
   "source": [
    "to call obj.get_numpy_matrix() you have to at least have called obj.calc_dh_matrix() and of coarse added your parameters :D"
   ]
  },
  {
   "cell_type": "code",
   "execution_count": null,
   "metadata": {},
   "outputs": [],
   "source": []
  }
 ],
 "metadata": {
  "kernelspec": {
   "display_name": "Python 3",
   "language": "python",
   "name": "python3"
  },
  "language_info": {
   "codemirror_mode": {
    "name": "ipython",
    "version": 3
   },
   "file_extension": ".py",
   "mimetype": "text/x-python",
   "name": "python",
   "nbconvert_exporter": "python",
   "pygments_lexer": "ipython3",
   "version": "3.6.3"
  }
 },
 "nbformat": 4,
 "nbformat_minor": 2
}
