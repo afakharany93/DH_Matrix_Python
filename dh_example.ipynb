{
 "cells": [
  {
   "cell_type": "code",
   "execution_count": 1,
   "metadata": {},
   "outputs": [],
   "source": [
    "from dh import dh_solver\n",
    "from IPython.display import Latex \n",
    "import sympy\n",
    "from sympy import Symbol\n",
    "import numpy as np"
   ]
  },
  {
   "cell_type": "code",
   "execution_count": 2,
   "metadata": {},
   "outputs": [],
   "source": [
    "#create an object \n",
    "mtb = dh_solver()"
   ]
  },
  {
   "cell_type": "markdown",
   "metadata": {},
   "source": [
    "## adding the dh paramters\n",
    "hust use obj.add() method to add a set of dh paramters in the kinematic chain, the first one to add is the base and the last one is the end effector, the method takes input a list \\[ d, theta, a, alpha\\]\n",
    "\n",
    "you can get the parameters from vrep http://www.forum.coppeliarobotics.com/viewtopic.php?f=9&t=5367"
   ]
  },
  {
   "cell_type": "code",
   "execution_count": 3,
   "metadata": {},
   "outputs": [],
   "source": [
    "#you can add the paramters wiht the variable as string\n",
    "mtb.add([0,Symbol(\"theta1\"),0.467,0])\n",
    "#or you can add the variable as a Sympy symbol, in this case you can also shift the variable\n",
    "mtb.add([0,Symbol(\"theta2\")+sympy.pi/2,0.4005,0])\n",
    "mtb.add([0.2,sympy.pi/3,0,Symbol(\"alpha3\")])"
   ]
  },
  {
   "cell_type": "code",
   "execution_count": 4,
   "metadata": {},
   "outputs": [
    {
     "name": "stderr",
     "output_type": "stream",
     "text": [
      "100%|████████████████████████████████████████████| 3/3 [00:00<00:00, 170.34it/s]\n"
     ]
    }
   ],
   "source": [
    "#to get the dh matrices in symbolic form\n",
    "T = mtb.calc_symbolic_matrices()"
   ]
  },
  {
   "cell_type": "code",
   "execution_count": 5,
   "metadata": {
    "scrolled": true
   },
   "outputs": [
    {
     "data": {
      "text/latex": [
       "$\\displaystyle \\left[\\begin{matrix}\\left(- \\sin{\\left(\\theta_{1} \\right)} \\sin{\\left(\\theta_{2} \\right)} \\cos{\\left(\\alpha_{1} \\right)} + \\cos{\\left(\\theta_{1} \\right)} \\cos{\\left(\\theta_{2} \\right)}\\right) \\cos{\\left(\\theta_{3} \\right)} + \\left(\\sin{\\left(\\alpha_{1} \\right)} \\sin{\\left(\\alpha_{2} \\right)} \\sin{\\left(\\theta_{1} \\right)} - \\sin{\\left(\\theta_{1} \\right)} \\cos{\\left(\\alpha_{1} \\right)} \\cos{\\left(\\alpha_{2} \\right)} \\cos{\\left(\\theta_{2} \\right)} - \\sin{\\left(\\theta_{2} \\right)} \\cos{\\left(\\alpha_{2} \\right)} \\cos{\\left(\\theta_{1} \\right)}\\right) \\sin{\\left(\\theta_{3} \\right)} & - \\left(- \\sin{\\left(\\theta_{1} \\right)} \\sin{\\left(\\theta_{2} \\right)} \\cos{\\left(\\alpha_{1} \\right)} + \\cos{\\left(\\theta_{1} \\right)} \\cos{\\left(\\theta_{2} \\right)}\\right) \\sin{\\left(\\theta_{3} \\right)} \\cos{\\left(\\alpha_{3} \\right)} + \\left(\\sin{\\left(\\alpha_{1} \\right)} \\sin{\\left(\\alpha_{2} \\right)} \\sin{\\left(\\theta_{1} \\right)} - \\sin{\\left(\\theta_{1} \\right)} \\cos{\\left(\\alpha_{1} \\right)} \\cos{\\left(\\alpha_{2} \\right)} \\cos{\\left(\\theta_{2} \\right)} - \\sin{\\left(\\theta_{2} \\right)} \\cos{\\left(\\alpha_{2} \\right)} \\cos{\\left(\\theta_{1} \\right)}\\right) \\cos{\\left(\\alpha_{3} \\right)} \\cos{\\left(\\theta_{3} \\right)} + \\left(\\sin{\\left(\\alpha_{1} \\right)} \\sin{\\left(\\theta_{1} \\right)} \\cos{\\left(\\alpha_{2} \\right)} + \\sin{\\left(\\alpha_{2} \\right)} \\sin{\\left(\\theta_{1} \\right)} \\cos{\\left(\\alpha_{1} \\right)} \\cos{\\left(\\theta_{2} \\right)} + \\sin{\\left(\\alpha_{2} \\right)} \\sin{\\left(\\theta_{2} \\right)} \\cos{\\left(\\theta_{1} \\right)}\\right) \\sin{\\left(\\alpha_{3} \\right)} & \\left(- \\sin{\\left(\\theta_{1} \\right)} \\sin{\\left(\\theta_{2} \\right)} \\cos{\\left(\\alpha_{1} \\right)} + \\cos{\\left(\\theta_{1} \\right)} \\cos{\\left(\\theta_{2} \\right)}\\right) \\sin{\\left(\\alpha_{3} \\right)} \\sin{\\left(\\theta_{3} \\right)} - \\left(\\sin{\\left(\\alpha_{1} \\right)} \\sin{\\left(\\alpha_{2} \\right)} \\sin{\\left(\\theta_{1} \\right)} - \\sin{\\left(\\theta_{1} \\right)} \\cos{\\left(\\alpha_{1} \\right)} \\cos{\\left(\\alpha_{2} \\right)} \\cos{\\left(\\theta_{2} \\right)} - \\sin{\\left(\\theta_{2} \\right)} \\cos{\\left(\\alpha_{2} \\right)} \\cos{\\left(\\theta_{1} \\right)}\\right) \\sin{\\left(\\alpha_{3} \\right)} \\cos{\\left(\\theta_{3} \\right)} + \\left(\\sin{\\left(\\alpha_{1} \\right)} \\sin{\\left(\\theta_{1} \\right)} \\cos{\\left(\\alpha_{2} \\right)} + \\sin{\\left(\\alpha_{2} \\right)} \\sin{\\left(\\theta_{1} \\right)} \\cos{\\left(\\alpha_{1} \\right)} \\cos{\\left(\\theta_{2} \\right)} + \\sin{\\left(\\alpha_{2} \\right)} \\sin{\\left(\\theta_{2} \\right)} \\cos{\\left(\\theta_{1} \\right)}\\right) \\cos{\\left(\\alpha_{3} \\right)} & a_{1} \\cos{\\left(\\theta_{1} \\right)} - a_{2} \\sin{\\left(\\alpha_{2} \\right)} \\sin{\\left(\\theta_{1} \\right)} \\cos{\\left(\\alpha_{1} \\right)} + a_{2} \\cos{\\left(\\theta_{1} \\right)} \\cos{\\left(\\theta_{2} \\right)} + a_{3} \\left(- \\sin{\\left(\\theta_{1} \\right)} \\sin{\\left(\\theta_{2} \\right)} \\cos{\\left(\\alpha_{1} \\right)} + \\cos{\\left(\\theta_{1} \\right)} \\cos{\\left(\\theta_{2} \\right)}\\right) \\cos{\\left(\\theta_{3} \\right)} + a_{3} \\left(\\sin{\\left(\\alpha_{1} \\right)} \\sin{\\left(\\alpha_{2} \\right)} \\sin{\\left(\\theta_{1} \\right)} - \\sin{\\left(\\theta_{1} \\right)} \\cos{\\left(\\alpha_{1} \\right)} \\cos{\\left(\\alpha_{2} \\right)} \\cos{\\left(\\theta_{2} \\right)} - \\sin{\\left(\\theta_{2} \\right)} \\cos{\\left(\\alpha_{2} \\right)} \\cos{\\left(\\theta_{1} \\right)}\\right) \\sin{\\left(\\alpha_{3} \\right)} + d_{2} \\sin{\\left(\\alpha_{1} \\right)} \\sin{\\left(\\theta_{1} \\right)} + d_{3} \\left(\\sin{\\left(\\alpha_{1} \\right)} \\sin{\\left(\\theta_{1} \\right)} \\cos{\\left(\\alpha_{2} \\right)} + \\sin{\\left(\\alpha_{2} \\right)} \\sin{\\left(\\theta_{1} \\right)} \\cos{\\left(\\alpha_{1} \\right)} \\cos{\\left(\\theta_{2} \\right)} + \\sin{\\left(\\alpha_{2} \\right)} \\sin{\\left(\\theta_{2} \\right)} \\cos{\\left(\\theta_{1} \\right)}\\right)\\\\\\left(\\sin{\\left(\\theta_{1} \\right)} \\cos{\\left(\\theta_{2} \\right)} + \\sin{\\left(\\theta_{2} \\right)} \\cos{\\left(\\alpha_{1} \\right)} \\cos{\\left(\\theta_{1} \\right)}\\right) \\cos{\\left(\\theta_{3} \\right)} + \\left(- \\sin{\\left(\\alpha_{1} \\right)} \\sin{\\left(\\alpha_{2} \\right)} \\cos{\\left(\\theta_{1} \\right)} - \\sin{\\left(\\theta_{1} \\right)} \\sin{\\left(\\theta_{2} \\right)} \\cos{\\left(\\alpha_{2} \\right)} + \\cos{\\left(\\alpha_{1} \\right)} \\cos{\\left(\\alpha_{2} \\right)} \\cos{\\left(\\theta_{1} \\right)} \\cos{\\left(\\theta_{2} \\right)}\\right) \\sin{\\left(\\theta_{3} \\right)} & - \\left(\\sin{\\left(\\theta_{1} \\right)} \\cos{\\left(\\theta_{2} \\right)} + \\sin{\\left(\\theta_{2} \\right)} \\cos{\\left(\\alpha_{1} \\right)} \\cos{\\left(\\theta_{1} \\right)}\\right) \\sin{\\left(\\theta_{3} \\right)} \\cos{\\left(\\alpha_{3} \\right)} + \\left(- \\sin{\\left(\\alpha_{1} \\right)} \\sin{\\left(\\alpha_{2} \\right)} \\cos{\\left(\\theta_{1} \\right)} - \\sin{\\left(\\theta_{1} \\right)} \\sin{\\left(\\theta_{2} \\right)} \\cos{\\left(\\alpha_{2} \\right)} + \\cos{\\left(\\alpha_{1} \\right)} \\cos{\\left(\\alpha_{2} \\right)} \\cos{\\left(\\theta_{1} \\right)} \\cos{\\left(\\theta_{2} \\right)}\\right) \\cos{\\left(\\alpha_{3} \\right)} \\cos{\\left(\\theta_{3} \\right)} + \\left(- \\sin{\\left(\\alpha_{1} \\right)} \\cos{\\left(\\alpha_{2} \\right)} \\cos{\\left(\\theta_{1} \\right)} + \\sin{\\left(\\alpha_{2} \\right)} \\sin{\\left(\\theta_{1} \\right)} \\sin{\\left(\\theta_{2} \\right)} - \\sin{\\left(\\alpha_{2} \\right)} \\cos{\\left(\\alpha_{1} \\right)} \\cos{\\left(\\theta_{1} \\right)} \\cos{\\left(\\theta_{2} \\right)}\\right) \\sin{\\left(\\alpha_{3} \\right)} & \\left(\\sin{\\left(\\theta_{1} \\right)} \\cos{\\left(\\theta_{2} \\right)} + \\sin{\\left(\\theta_{2} \\right)} \\cos{\\left(\\alpha_{1} \\right)} \\cos{\\left(\\theta_{1} \\right)}\\right) \\sin{\\left(\\alpha_{3} \\right)} \\sin{\\left(\\theta_{3} \\right)} - \\left(- \\sin{\\left(\\alpha_{1} \\right)} \\sin{\\left(\\alpha_{2} \\right)} \\cos{\\left(\\theta_{1} \\right)} - \\sin{\\left(\\theta_{1} \\right)} \\sin{\\left(\\theta_{2} \\right)} \\cos{\\left(\\alpha_{2} \\right)} + \\cos{\\left(\\alpha_{1} \\right)} \\cos{\\left(\\alpha_{2} \\right)} \\cos{\\left(\\theta_{1} \\right)} \\cos{\\left(\\theta_{2} \\right)}\\right) \\sin{\\left(\\alpha_{3} \\right)} \\cos{\\left(\\theta_{3} \\right)} + \\left(- \\sin{\\left(\\alpha_{1} \\right)} \\cos{\\left(\\alpha_{2} \\right)} \\cos{\\left(\\theta_{1} \\right)} + \\sin{\\left(\\alpha_{2} \\right)} \\sin{\\left(\\theta_{1} \\right)} \\sin{\\left(\\theta_{2} \\right)} - \\sin{\\left(\\alpha_{2} \\right)} \\cos{\\left(\\alpha_{1} \\right)} \\cos{\\left(\\theta_{1} \\right)} \\cos{\\left(\\theta_{2} \\right)}\\right) \\cos{\\left(\\alpha_{3} \\right)} & a_{1} \\sin{\\left(\\alpha_{1} \\right)} + a_{2} \\sin{\\left(\\alpha_{2} \\right)} \\cos{\\left(\\alpha_{1} \\right)} \\cos{\\left(\\theta_{1} \\right)} + a_{2} \\sin{\\left(\\theta_{1} \\right)} \\cos{\\left(\\theta_{2} \\right)} + a_{3} \\left(\\sin{\\left(\\theta_{1} \\right)} \\cos{\\left(\\theta_{2} \\right)} + \\sin{\\left(\\theta_{2} \\right)} \\cos{\\left(\\alpha_{1} \\right)} \\cos{\\left(\\theta_{1} \\right)}\\right) \\cos{\\left(\\theta_{3} \\right)} + a_{3} \\left(- \\sin{\\left(\\alpha_{1} \\right)} \\sin{\\left(\\alpha_{2} \\right)} \\cos{\\left(\\theta_{1} \\right)} - \\sin{\\left(\\theta_{1} \\right)} \\sin{\\left(\\theta_{2} \\right)} \\cos{\\left(\\alpha_{2} \\right)} + \\cos{\\left(\\alpha_{1} \\right)} \\cos{\\left(\\alpha_{2} \\right)} \\cos{\\left(\\theta_{1} \\right)} \\cos{\\left(\\theta_{2} \\right)}\\right) \\sin{\\left(\\alpha_{3} \\right)} - d_{2} \\sin{\\left(\\alpha_{1} \\right)} \\cos{\\left(\\theta_{1} \\right)} + d_{3} \\left(- \\sin{\\left(\\alpha_{1} \\right)} \\cos{\\left(\\alpha_{2} \\right)} \\cos{\\left(\\theta_{1} \\right)} + \\sin{\\left(\\alpha_{2} \\right)} \\sin{\\left(\\theta_{1} \\right)} \\sin{\\left(\\theta_{2} \\right)} - \\sin{\\left(\\alpha_{2} \\right)} \\cos{\\left(\\alpha_{1} \\right)} \\cos{\\left(\\theta_{1} \\right)} \\cos{\\left(\\theta_{2} \\right)}\\right)\\\\\\left(\\sin{\\left(\\alpha_{1} \\right)} \\cos{\\left(\\alpha_{2} \\right)} \\cos{\\left(\\theta_{2} \\right)} + \\sin{\\left(\\alpha_{2} \\right)} \\cos{\\left(\\alpha_{1} \\right)}\\right) \\sin{\\left(\\theta_{3} \\right)} + \\sin{\\left(\\alpha_{1} \\right)} \\sin{\\left(\\theta_{2} \\right)} \\cos{\\left(\\theta_{3} \\right)} & \\left(- \\sin{\\left(\\alpha_{1} \\right)} \\sin{\\left(\\alpha_{2} \\right)} \\cos{\\left(\\theta_{2} \\right)} + \\cos{\\left(\\alpha_{1} \\right)} \\cos{\\left(\\alpha_{2} \\right)}\\right) \\sin{\\left(\\alpha_{3} \\right)} + \\left(\\sin{\\left(\\alpha_{1} \\right)} \\cos{\\left(\\alpha_{2} \\right)} \\cos{\\left(\\theta_{2} \\right)} + \\sin{\\left(\\alpha_{2} \\right)} \\cos{\\left(\\alpha_{1} \\right)}\\right) \\cos{\\left(\\alpha_{3} \\right)} \\cos{\\left(\\theta_{3} \\right)} - \\sin{\\left(\\alpha_{1} \\right)} \\sin{\\left(\\theta_{2} \\right)} \\sin{\\left(\\theta_{3} \\right)} \\cos{\\left(\\alpha_{3} \\right)} & \\left(- \\sin{\\left(\\alpha_{1} \\right)} \\sin{\\left(\\alpha_{2} \\right)} \\cos{\\left(\\theta_{2} \\right)} + \\cos{\\left(\\alpha_{1} \\right)} \\cos{\\left(\\alpha_{2} \\right)}\\right) \\cos{\\left(\\alpha_{3} \\right)} - \\left(\\sin{\\left(\\alpha_{1} \\right)} \\cos{\\left(\\alpha_{2} \\right)} \\cos{\\left(\\theta_{2} \\right)} + \\sin{\\left(\\alpha_{2} \\right)} \\cos{\\left(\\alpha_{1} \\right)}\\right) \\sin{\\left(\\alpha_{3} \\right)} \\cos{\\left(\\theta_{3} \\right)} + \\sin{\\left(\\alpha_{1} \\right)} \\sin{\\left(\\alpha_{3} \\right)} \\sin{\\left(\\theta_{2} \\right)} \\sin{\\left(\\theta_{3} \\right)} & a_{2} \\sin{\\left(\\alpha_{1} \\right)} \\sin{\\left(\\alpha_{2} \\right)} + a_{3} \\left(\\sin{\\left(\\alpha_{1} \\right)} \\cos{\\left(\\alpha_{2} \\right)} \\cos{\\left(\\theta_{2} \\right)} + \\sin{\\left(\\alpha_{2} \\right)} \\cos{\\left(\\alpha_{1} \\right)}\\right) \\sin{\\left(\\alpha_{3} \\right)} + a_{3} \\sin{\\left(\\alpha_{1} \\right)} \\sin{\\left(\\theta_{2} \\right)} \\cos{\\left(\\theta_{3} \\right)} + d_{1} + d_{2} \\cos{\\left(\\alpha_{1} \\right)} + d_{3} \\left(- \\sin{\\left(\\alpha_{1} \\right)} \\sin{\\left(\\alpha_{2} \\right)} \\cos{\\left(\\theta_{2} \\right)} + \\cos{\\left(\\alpha_{1} \\right)} \\cos{\\left(\\alpha_{2} \\right)}\\right)\\\\0 & 0 & 0 & 1\\end{matrix}\\right]$"
      ],
      "text/plain": [
       "Matrix([\n",
       "[(-sin(theta1)*sin(theta2)*cos(alpha1) + cos(theta1)*cos(theta2))*cos(theta3) + (sin(alpha1)*sin(alpha2)*sin(theta1) - sin(theta1)*cos(alpha1)*cos(alpha2)*cos(theta2) - sin(theta2)*cos(alpha2)*cos(theta1))*sin(theta3),  -(-sin(theta1)*sin(theta2)*cos(alpha1) + cos(theta1)*cos(theta2))*sin(theta3)*cos(alpha3) + (sin(alpha1)*sin(alpha2)*sin(theta1) - sin(theta1)*cos(alpha1)*cos(alpha2)*cos(theta2) - sin(theta2)*cos(alpha2)*cos(theta1))*cos(alpha3)*cos(theta3) + (sin(alpha1)*sin(theta1)*cos(alpha2) + sin(alpha2)*sin(theta1)*cos(alpha1)*cos(theta2) + sin(alpha2)*sin(theta2)*cos(theta1))*sin(alpha3),  (-sin(theta1)*sin(theta2)*cos(alpha1) + cos(theta1)*cos(theta2))*sin(alpha3)*sin(theta3) - (sin(alpha1)*sin(alpha2)*sin(theta1) - sin(theta1)*cos(alpha1)*cos(alpha2)*cos(theta2) - sin(theta2)*cos(alpha2)*cos(theta1))*sin(alpha3)*cos(theta3) + (sin(alpha1)*sin(theta1)*cos(alpha2) + sin(alpha2)*sin(theta1)*cos(alpha1)*cos(theta2) + sin(alpha2)*sin(theta2)*cos(theta1))*cos(alpha3),  a1*cos(theta1) - a2*sin(alpha2)*sin(theta1)*cos(alpha1) + a2*cos(theta1)*cos(theta2) + a3*(-sin(theta1)*sin(theta2)*cos(alpha1) + cos(theta1)*cos(theta2))*cos(theta3) + a3*(sin(alpha1)*sin(alpha2)*sin(theta1) - sin(theta1)*cos(alpha1)*cos(alpha2)*cos(theta2) - sin(theta2)*cos(alpha2)*cos(theta1))*sin(alpha3) + d2*sin(alpha1)*sin(theta1) + d3*(sin(alpha1)*sin(theta1)*cos(alpha2) + sin(alpha2)*sin(theta1)*cos(alpha1)*cos(theta2) + sin(alpha2)*sin(theta2)*cos(theta1))],\n",
       "[(sin(theta1)*cos(theta2) + sin(theta2)*cos(alpha1)*cos(theta1))*cos(theta3) + (-sin(alpha1)*sin(alpha2)*cos(theta1) - sin(theta1)*sin(theta2)*cos(alpha2) + cos(alpha1)*cos(alpha2)*cos(theta1)*cos(theta2))*sin(theta3), -(sin(theta1)*cos(theta2) + sin(theta2)*cos(alpha1)*cos(theta1))*sin(theta3)*cos(alpha3) + (-sin(alpha1)*sin(alpha2)*cos(theta1) - sin(theta1)*sin(theta2)*cos(alpha2) + cos(alpha1)*cos(alpha2)*cos(theta1)*cos(theta2))*cos(alpha3)*cos(theta3) + (-sin(alpha1)*cos(alpha2)*cos(theta1) + sin(alpha2)*sin(theta1)*sin(theta2) - sin(alpha2)*cos(alpha1)*cos(theta1)*cos(theta2))*sin(alpha3), (sin(theta1)*cos(theta2) + sin(theta2)*cos(alpha1)*cos(theta1))*sin(alpha3)*sin(theta3) - (-sin(alpha1)*sin(alpha2)*cos(theta1) - sin(theta1)*sin(theta2)*cos(alpha2) + cos(alpha1)*cos(alpha2)*cos(theta1)*cos(theta2))*sin(alpha3)*cos(theta3) + (-sin(alpha1)*cos(alpha2)*cos(theta1) + sin(alpha2)*sin(theta1)*sin(theta2) - sin(alpha2)*cos(alpha1)*cos(theta1)*cos(theta2))*cos(alpha3), a1*sin(alpha1) + a2*sin(alpha2)*cos(alpha1)*cos(theta1) + a2*sin(theta1)*cos(theta2) + a3*(sin(theta1)*cos(theta2) + sin(theta2)*cos(alpha1)*cos(theta1))*cos(theta3) + a3*(-sin(alpha1)*sin(alpha2)*cos(theta1) - sin(theta1)*sin(theta2)*cos(alpha2) + cos(alpha1)*cos(alpha2)*cos(theta1)*cos(theta2))*sin(alpha3) - d2*sin(alpha1)*cos(theta1) + d3*(-sin(alpha1)*cos(alpha2)*cos(theta1) + sin(alpha2)*sin(theta1)*sin(theta2) - sin(alpha2)*cos(alpha1)*cos(theta1)*cos(theta2))],\n",
       "[                                                                                                       (sin(alpha1)*cos(alpha2)*cos(theta2) + sin(alpha2)*cos(alpha1))*sin(theta3) + sin(alpha1)*sin(theta2)*cos(theta3),                                                                                                                                                                       (-sin(alpha1)*sin(alpha2)*cos(theta2) + cos(alpha1)*cos(alpha2))*sin(alpha3) + (sin(alpha1)*cos(alpha2)*cos(theta2) + sin(alpha2)*cos(alpha1))*cos(alpha3)*cos(theta3) - sin(alpha1)*sin(theta2)*sin(theta3)*cos(alpha3),                                                                                                                                                                      (-sin(alpha1)*sin(alpha2)*cos(theta2) + cos(alpha1)*cos(alpha2))*cos(alpha3) - (sin(alpha1)*cos(alpha2)*cos(theta2) + sin(alpha2)*cos(alpha1))*sin(alpha3)*cos(theta3) + sin(alpha1)*sin(alpha3)*sin(theta2)*sin(theta3),                                                                                                                                                                                                                                       a2*sin(alpha1)*sin(alpha2) + a3*(sin(alpha1)*cos(alpha2)*cos(theta2) + sin(alpha2)*cos(alpha1))*sin(alpha3) + a3*sin(alpha1)*sin(theta2)*cos(theta3) + d1 + d2*cos(alpha1) + d3*(-sin(alpha1)*sin(alpha2)*cos(theta2) + cos(alpha1)*cos(alpha2))],\n",
       "[                                                                                                                                                                                                                       0,                                                                                                                                                                                                                                                                                                                                                                                              0,                                                                                                                                                                                                                                                                                                                                                                                             0,                                                                                                                                                                                                                                                                                                                                                                                                                                                                                      1]])"
      ]
     },
     "execution_count": 5,
     "metadata": {},
     "output_type": "execute_result"
    }
   ],
   "source": [
    "T"
   ]
  },
  {
   "cell_type": "code",
   "execution_count": 6,
   "metadata": {
    "scrolled": true
   },
   "outputs": [
    {
     "data": {
      "text/latex": [
       "$\\displaystyle \\left[\\begin{matrix}- \\left(\\sin{\\left(\\theta_{1} \\right)} \\sin{\\left(\\theta_{2} \\right)} \\cos{\\left(\\alpha_{1} \\right)} - \\cos{\\left(\\theta_{1} \\right)} \\cos{\\left(\\theta_{2} \\right)}\\right) \\cos{\\left(\\theta_{3} \\right)} - \\left(- \\sin{\\left(\\alpha_{1} \\right)} \\sin{\\left(\\alpha_{2} \\right)} \\sin{\\left(\\theta_{1} \\right)} + \\sin{\\left(\\theta_{1} \\right)} \\cos{\\left(\\alpha_{1} \\right)} \\cos{\\left(\\alpha_{2} \\right)} \\cos{\\left(\\theta_{2} \\right)} + \\sin{\\left(\\theta_{2} \\right)} \\cos{\\left(\\alpha_{2} \\right)} \\cos{\\left(\\theta_{1} \\right)}\\right) \\sin{\\left(\\theta_{3} \\right)} & \\left(\\sin{\\left(\\theta_{1} \\right)} \\sin{\\left(\\theta_{2} \\right)} \\cos{\\left(\\alpha_{1} \\right)} - \\cos{\\left(\\theta_{1} \\right)} \\cos{\\left(\\theta_{2} \\right)}\\right) \\sin{\\left(\\theta_{3} \\right)} \\cos{\\left(\\alpha_{3} \\right)} - \\left(- \\sin{\\left(\\alpha_{1} \\right)} \\sin{\\left(\\alpha_{2} \\right)} \\sin{\\left(\\theta_{1} \\right)} + \\sin{\\left(\\theta_{1} \\right)} \\cos{\\left(\\alpha_{1} \\right)} \\cos{\\left(\\alpha_{2} \\right)} \\cos{\\left(\\theta_{2} \\right)} + \\sin{\\left(\\theta_{2} \\right)} \\cos{\\left(\\alpha_{2} \\right)} \\cos{\\left(\\theta_{1} \\right)}\\right) \\cos{\\left(\\alpha_{3} \\right)} \\cos{\\left(\\theta_{3} \\right)} + \\left(\\sin{\\left(\\alpha_{1} \\right)} \\sin{\\left(\\theta_{1} \\right)} \\cos{\\left(\\alpha_{2} \\right)} + \\sin{\\left(\\alpha_{2} \\right)} \\sin{\\left(\\theta_{1} \\right)} \\cos{\\left(\\alpha_{1} \\right)} \\cos{\\left(\\theta_{2} \\right)} + \\sin{\\left(\\alpha_{2} \\right)} \\sin{\\left(\\theta_{2} \\right)} \\cos{\\left(\\theta_{1} \\right)}\\right) \\sin{\\left(\\alpha_{3} \\right)} & - \\left(\\sin{\\left(\\theta_{1} \\right)} \\sin{\\left(\\theta_{2} \\right)} \\cos{\\left(\\alpha_{1} \\right)} - \\cos{\\left(\\theta_{1} \\right)} \\cos{\\left(\\theta_{2} \\right)}\\right) \\sin{\\left(\\alpha_{3} \\right)} \\sin{\\left(\\theta_{3} \\right)} + \\left(- \\sin{\\left(\\alpha_{1} \\right)} \\sin{\\left(\\alpha_{2} \\right)} \\sin{\\left(\\theta_{1} \\right)} + \\sin{\\left(\\theta_{1} \\right)} \\cos{\\left(\\alpha_{1} \\right)} \\cos{\\left(\\alpha_{2} \\right)} \\cos{\\left(\\theta_{2} \\right)} + \\sin{\\left(\\theta_{2} \\right)} \\cos{\\left(\\alpha_{2} \\right)} \\cos{\\left(\\theta_{1} \\right)}\\right) \\sin{\\left(\\alpha_{3} \\right)} \\cos{\\left(\\theta_{3} \\right)} + \\left(\\sin{\\left(\\alpha_{1} \\right)} \\sin{\\left(\\theta_{1} \\right)} \\cos{\\left(\\alpha_{2} \\right)} + \\sin{\\left(\\alpha_{2} \\right)} \\sin{\\left(\\theta_{1} \\right)} \\cos{\\left(\\alpha_{1} \\right)} \\cos{\\left(\\theta_{2} \\right)} + \\sin{\\left(\\alpha_{2} \\right)} \\sin{\\left(\\theta_{2} \\right)} \\cos{\\left(\\theta_{1} \\right)}\\right) \\cos{\\left(\\alpha_{3} \\right)} & a_{1} \\cos{\\left(\\theta_{1} \\right)} - a_{2} \\sin{\\left(\\alpha_{2} \\right)} \\sin{\\left(\\theta_{1} \\right)} \\cos{\\left(\\alpha_{1} \\right)} + a_{2} \\cos{\\left(\\theta_{1} \\right)} \\cos{\\left(\\theta_{2} \\right)} - a_{3} \\left(\\sin{\\left(\\theta_{1} \\right)} \\sin{\\left(\\theta_{2} \\right)} \\cos{\\left(\\alpha_{1} \\right)} - \\cos{\\left(\\theta_{1} \\right)} \\cos{\\left(\\theta_{2} \\right)}\\right) \\cos{\\left(\\theta_{3} \\right)} - a_{3} \\left(- \\sin{\\left(\\alpha_{1} \\right)} \\sin{\\left(\\alpha_{2} \\right)} \\sin{\\left(\\theta_{1} \\right)} + \\sin{\\left(\\theta_{1} \\right)} \\cos{\\left(\\alpha_{1} \\right)} \\cos{\\left(\\alpha_{2} \\right)} \\cos{\\left(\\theta_{2} \\right)} + \\sin{\\left(\\theta_{2} \\right)} \\cos{\\left(\\alpha_{2} \\right)} \\cos{\\left(\\theta_{1} \\right)}\\right) \\sin{\\left(\\alpha_{3} \\right)} + d_{2} \\sin{\\left(\\alpha_{1} \\right)} \\sin{\\left(\\theta_{1} \\right)} + d_{3} \\left(\\sin{\\left(\\alpha_{1} \\right)} \\sin{\\left(\\theta_{1} \\right)} \\cos{\\left(\\alpha_{2} \\right)} + \\sin{\\left(\\alpha_{2} \\right)} \\sin{\\left(\\theta_{1} \\right)} \\cos{\\left(\\alpha_{1} \\right)} \\cos{\\left(\\theta_{2} \\right)} + \\sin{\\left(\\alpha_{2} \\right)} \\sin{\\left(\\theta_{2} \\right)} \\cos{\\left(\\theta_{1} \\right)}\\right)\\\\\\left(\\sin{\\left(\\theta_{1} \\right)} \\cos{\\left(\\theta_{2} \\right)} + \\sin{\\left(\\theta_{2} \\right)} \\cos{\\left(\\alpha_{1} \\right)} \\cos{\\left(\\theta_{1} \\right)}\\right) \\cos{\\left(\\theta_{3} \\right)} - \\left(\\sin{\\left(\\alpha_{1} \\right)} \\sin{\\left(\\alpha_{2} \\right)} \\cos{\\left(\\theta_{1} \\right)} + \\sin{\\left(\\theta_{1} \\right)} \\sin{\\left(\\theta_{2} \\right)} \\cos{\\left(\\alpha_{2} \\right)} - \\cos{\\left(\\alpha_{1} \\right)} \\cos{\\left(\\alpha_{2} \\right)} \\cos{\\left(\\theta_{1} \\right)} \\cos{\\left(\\theta_{2} \\right)}\\right) \\sin{\\left(\\theta_{3} \\right)} & - \\left(\\sin{\\left(\\theta_{1} \\right)} \\cos{\\left(\\theta_{2} \\right)} + \\sin{\\left(\\theta_{2} \\right)} \\cos{\\left(\\alpha_{1} \\right)} \\cos{\\left(\\theta_{1} \\right)}\\right) \\sin{\\left(\\theta_{3} \\right)} \\cos{\\left(\\alpha_{3} \\right)} - \\left(\\sin{\\left(\\alpha_{1} \\right)} \\sin{\\left(\\alpha_{2} \\right)} \\cos{\\left(\\theta_{1} \\right)} + \\sin{\\left(\\theta_{1} \\right)} \\sin{\\left(\\theta_{2} \\right)} \\cos{\\left(\\alpha_{2} \\right)} - \\cos{\\left(\\alpha_{1} \\right)} \\cos{\\left(\\alpha_{2} \\right)} \\cos{\\left(\\theta_{1} \\right)} \\cos{\\left(\\theta_{2} \\right)}\\right) \\cos{\\left(\\alpha_{3} \\right)} \\cos{\\left(\\theta_{3} \\right)} - \\left(\\sin{\\left(\\alpha_{1} \\right)} \\cos{\\left(\\alpha_{2} \\right)} \\cos{\\left(\\theta_{1} \\right)} - \\sin{\\left(\\alpha_{2} \\right)} \\sin{\\left(\\theta_{1} \\right)} \\sin{\\left(\\theta_{2} \\right)} + \\sin{\\left(\\alpha_{2} \\right)} \\cos{\\left(\\alpha_{1} \\right)} \\cos{\\left(\\theta_{1} \\right)} \\cos{\\left(\\theta_{2} \\right)}\\right) \\sin{\\left(\\alpha_{3} \\right)} & \\left(\\sin{\\left(\\theta_{1} \\right)} \\cos{\\left(\\theta_{2} \\right)} + \\sin{\\left(\\theta_{2} \\right)} \\cos{\\left(\\alpha_{1} \\right)} \\cos{\\left(\\theta_{1} \\right)}\\right) \\sin{\\left(\\alpha_{3} \\right)} \\sin{\\left(\\theta_{3} \\right)} + \\left(\\sin{\\left(\\alpha_{1} \\right)} \\sin{\\left(\\alpha_{2} \\right)} \\cos{\\left(\\theta_{1} \\right)} + \\sin{\\left(\\theta_{1} \\right)} \\sin{\\left(\\theta_{2} \\right)} \\cos{\\left(\\alpha_{2} \\right)} - \\cos{\\left(\\alpha_{1} \\right)} \\cos{\\left(\\alpha_{2} \\right)} \\cos{\\left(\\theta_{1} \\right)} \\cos{\\left(\\theta_{2} \\right)}\\right) \\sin{\\left(\\alpha_{3} \\right)} \\cos{\\left(\\theta_{3} \\right)} - \\left(\\sin{\\left(\\alpha_{1} \\right)} \\cos{\\left(\\alpha_{2} \\right)} \\cos{\\left(\\theta_{1} \\right)} - \\sin{\\left(\\alpha_{2} \\right)} \\sin{\\left(\\theta_{1} \\right)} \\sin{\\left(\\theta_{2} \\right)} + \\sin{\\left(\\alpha_{2} \\right)} \\cos{\\left(\\alpha_{1} \\right)} \\cos{\\left(\\theta_{1} \\right)} \\cos{\\left(\\theta_{2} \\right)}\\right) \\cos{\\left(\\alpha_{3} \\right)} & a_{1} \\sin{\\left(\\alpha_{1} \\right)} + a_{2} \\sin{\\left(\\alpha_{2} \\right)} \\cos{\\left(\\alpha_{1} \\right)} \\cos{\\left(\\theta_{1} \\right)} + a_{2} \\sin{\\left(\\theta_{1} \\right)} \\cos{\\left(\\theta_{2} \\right)} + a_{3} \\left(\\sin{\\left(\\theta_{1} \\right)} \\cos{\\left(\\theta_{2} \\right)} + \\sin{\\left(\\theta_{2} \\right)} \\cos{\\left(\\alpha_{1} \\right)} \\cos{\\left(\\theta_{1} \\right)}\\right) \\cos{\\left(\\theta_{3} \\right)} - a_{3} \\left(\\sin{\\left(\\alpha_{1} \\right)} \\sin{\\left(\\alpha_{2} \\right)} \\cos{\\left(\\theta_{1} \\right)} + \\sin{\\left(\\theta_{1} \\right)} \\sin{\\left(\\theta_{2} \\right)} \\cos{\\left(\\alpha_{2} \\right)} - \\cos{\\left(\\alpha_{1} \\right)} \\cos{\\left(\\alpha_{2} \\right)} \\cos{\\left(\\theta_{1} \\right)} \\cos{\\left(\\theta_{2} \\right)}\\right) \\sin{\\left(\\alpha_{3} \\right)} - d_{2} \\sin{\\left(\\alpha_{1} \\right)} \\cos{\\left(\\theta_{1} \\right)} - d_{3} \\left(\\sin{\\left(\\alpha_{1} \\right)} \\cos{\\left(\\alpha_{2} \\right)} \\cos{\\left(\\theta_{1} \\right)} - \\sin{\\left(\\alpha_{2} \\right)} \\sin{\\left(\\theta_{1} \\right)} \\sin{\\left(\\theta_{2} \\right)} + \\sin{\\left(\\alpha_{2} \\right)} \\cos{\\left(\\alpha_{1} \\right)} \\cos{\\left(\\theta_{1} \\right)} \\cos{\\left(\\theta_{2} \\right)}\\right)\\\\\\left(\\sin{\\left(\\alpha_{1} \\right)} \\cos{\\left(\\alpha_{2} \\right)} \\cos{\\left(\\theta_{2} \\right)} + \\sin{\\left(\\alpha_{2} \\right)} \\cos{\\left(\\alpha_{1} \\right)}\\right) \\sin{\\left(\\theta_{3} \\right)} + \\sin{\\left(\\alpha_{1} \\right)} \\sin{\\left(\\theta_{2} \\right)} \\cos{\\left(\\theta_{3} \\right)} & - \\left(\\sin{\\left(\\alpha_{1} \\right)} \\sin{\\left(\\alpha_{2} \\right)} \\cos{\\left(\\theta_{2} \\right)} - \\cos{\\left(\\alpha_{1} \\right)} \\cos{\\left(\\alpha_{2} \\right)}\\right) \\sin{\\left(\\alpha_{3} \\right)} + \\left(\\sin{\\left(\\alpha_{1} \\right)} \\cos{\\left(\\alpha_{2} \\right)} \\cos{\\left(\\theta_{2} \\right)} + \\sin{\\left(\\alpha_{2} \\right)} \\cos{\\left(\\alpha_{1} \\right)}\\right) \\cos{\\left(\\alpha_{3} \\right)} \\cos{\\left(\\theta_{3} \\right)} - \\sin{\\left(\\alpha_{1} \\right)} \\sin{\\left(\\theta_{2} \\right)} \\sin{\\left(\\theta_{3} \\right)} \\cos{\\left(\\alpha_{3} \\right)} & - \\left(\\sin{\\left(\\alpha_{1} \\right)} \\sin{\\left(\\alpha_{2} \\right)} \\cos{\\left(\\theta_{2} \\right)} - \\cos{\\left(\\alpha_{1} \\right)} \\cos{\\left(\\alpha_{2} \\right)}\\right) \\cos{\\left(\\alpha_{3} \\right)} - \\left(\\sin{\\left(\\alpha_{1} \\right)} \\cos{\\left(\\alpha_{2} \\right)} \\cos{\\left(\\theta_{2} \\right)} + \\sin{\\left(\\alpha_{2} \\right)} \\cos{\\left(\\alpha_{1} \\right)}\\right) \\sin{\\left(\\alpha_{3} \\right)} \\cos{\\left(\\theta_{3} \\right)} + \\sin{\\left(\\alpha_{1} \\right)} \\sin{\\left(\\alpha_{3} \\right)} \\sin{\\left(\\theta_{2} \\right)} \\sin{\\left(\\theta_{3} \\right)} & a_{2} \\sin{\\left(\\alpha_{1} \\right)} \\sin{\\left(\\alpha_{2} \\right)} + a_{3} \\left(\\sin{\\left(\\alpha_{1} \\right)} \\cos{\\left(\\alpha_{2} \\right)} \\cos{\\left(\\theta_{2} \\right)} + \\sin{\\left(\\alpha_{2} \\right)} \\cos{\\left(\\alpha_{1} \\right)}\\right) \\sin{\\left(\\alpha_{3} \\right)} + a_{3} \\sin{\\left(\\alpha_{1} \\right)} \\sin{\\left(\\theta_{2} \\right)} \\cos{\\left(\\theta_{3} \\right)} + d_{1} + d_{2} \\cos{\\left(\\alpha_{1} \\right)} - d_{3} \\left(\\sin{\\left(\\alpha_{1} \\right)} \\sin{\\left(\\alpha_{2} \\right)} \\cos{\\left(\\theta_{2} \\right)} - \\cos{\\left(\\alpha_{1} \\right)} \\cos{\\left(\\alpha_{2} \\right)}\\right)\\\\0 & 0 & 0 & 1\\end{matrix}\\right]$"
      ],
      "text/plain": [
       "Matrix([\n",
       "[-(sin(theta1)*sin(theta2)*cos(alpha1) - cos(theta1)*cos(theta2))*cos(theta3) - (-sin(alpha1)*sin(alpha2)*sin(theta1) + sin(theta1)*cos(alpha1)*cos(alpha2)*cos(theta2) + sin(theta2)*cos(alpha2)*cos(theta1))*sin(theta3), (sin(theta1)*sin(theta2)*cos(alpha1) - cos(theta1)*cos(theta2))*sin(theta3)*cos(alpha3) - (-sin(alpha1)*sin(alpha2)*sin(theta1) + sin(theta1)*cos(alpha1)*cos(alpha2)*cos(theta2) + sin(theta2)*cos(alpha2)*cos(theta1))*cos(alpha3)*cos(theta3) + (sin(alpha1)*sin(theta1)*cos(alpha2) + sin(alpha2)*sin(theta1)*cos(alpha1)*cos(theta2) + sin(alpha2)*sin(theta2)*cos(theta1))*sin(alpha3), -(sin(theta1)*sin(theta2)*cos(alpha1) - cos(theta1)*cos(theta2))*sin(alpha3)*sin(theta3) + (-sin(alpha1)*sin(alpha2)*sin(theta1) + sin(theta1)*cos(alpha1)*cos(alpha2)*cos(theta2) + sin(theta2)*cos(alpha2)*cos(theta1))*sin(alpha3)*cos(theta3) + (sin(alpha1)*sin(theta1)*cos(alpha2) + sin(alpha2)*sin(theta1)*cos(alpha1)*cos(theta2) + sin(alpha2)*sin(theta2)*cos(theta1))*cos(alpha3), a1*cos(theta1) - a2*sin(alpha2)*sin(theta1)*cos(alpha1) + a2*cos(theta1)*cos(theta2) - a3*(sin(theta1)*sin(theta2)*cos(alpha1) - cos(theta1)*cos(theta2))*cos(theta3) - a3*(-sin(alpha1)*sin(alpha2)*sin(theta1) + sin(theta1)*cos(alpha1)*cos(alpha2)*cos(theta2) + sin(theta2)*cos(alpha2)*cos(theta1))*sin(alpha3) + d2*sin(alpha1)*sin(theta1) + d3*(sin(alpha1)*sin(theta1)*cos(alpha2) + sin(alpha2)*sin(theta1)*cos(alpha1)*cos(theta2) + sin(alpha2)*sin(theta2)*cos(theta1))],\n",
       "[  (sin(theta1)*cos(theta2) + sin(theta2)*cos(alpha1)*cos(theta1))*cos(theta3) - (sin(alpha1)*sin(alpha2)*cos(theta1) + sin(theta1)*sin(theta2)*cos(alpha2) - cos(alpha1)*cos(alpha2)*cos(theta1)*cos(theta2))*sin(theta3), -(sin(theta1)*cos(theta2) + sin(theta2)*cos(alpha1)*cos(theta1))*sin(theta3)*cos(alpha3) - (sin(alpha1)*sin(alpha2)*cos(theta1) + sin(theta1)*sin(theta2)*cos(alpha2) - cos(alpha1)*cos(alpha2)*cos(theta1)*cos(theta2))*cos(alpha3)*cos(theta3) - (sin(alpha1)*cos(alpha2)*cos(theta1) - sin(alpha2)*sin(theta1)*sin(theta2) + sin(alpha2)*cos(alpha1)*cos(theta1)*cos(theta2))*sin(alpha3),   (sin(theta1)*cos(theta2) + sin(theta2)*cos(alpha1)*cos(theta1))*sin(alpha3)*sin(theta3) + (sin(alpha1)*sin(alpha2)*cos(theta1) + sin(theta1)*sin(theta2)*cos(alpha2) - cos(alpha1)*cos(alpha2)*cos(theta1)*cos(theta2))*sin(alpha3)*cos(theta3) - (sin(alpha1)*cos(alpha2)*cos(theta1) - sin(alpha2)*sin(theta1)*sin(theta2) + sin(alpha2)*cos(alpha1)*cos(theta1)*cos(theta2))*cos(alpha3),  a1*sin(alpha1) + a2*sin(alpha2)*cos(alpha1)*cos(theta1) + a2*sin(theta1)*cos(theta2) + a3*(sin(theta1)*cos(theta2) + sin(theta2)*cos(alpha1)*cos(theta1))*cos(theta3) - a3*(sin(alpha1)*sin(alpha2)*cos(theta1) + sin(theta1)*sin(theta2)*cos(alpha2) - cos(alpha1)*cos(alpha2)*cos(theta1)*cos(theta2))*sin(alpha3) - d2*sin(alpha1)*cos(theta1) - d3*(sin(alpha1)*cos(alpha2)*cos(theta1) - sin(alpha2)*sin(theta1)*sin(theta2) + sin(alpha2)*cos(alpha1)*cos(theta1)*cos(theta2))],\n",
       "[                                                                                                        (sin(alpha1)*cos(alpha2)*cos(theta2) + sin(alpha2)*cos(alpha1))*sin(theta3) + sin(alpha1)*sin(theta2)*cos(theta3),                                                                                                                                                                     -(sin(alpha1)*sin(alpha2)*cos(theta2) - cos(alpha1)*cos(alpha2))*sin(alpha3) + (sin(alpha1)*cos(alpha2)*cos(theta2) + sin(alpha2)*cos(alpha1))*cos(alpha3)*cos(theta3) - sin(alpha1)*sin(theta2)*sin(theta3)*cos(alpha3),                                                                                                                                                                      -(sin(alpha1)*sin(alpha2)*cos(theta2) - cos(alpha1)*cos(alpha2))*cos(alpha3) - (sin(alpha1)*cos(alpha2)*cos(theta2) + sin(alpha2)*cos(alpha1))*sin(alpha3)*cos(theta3) + sin(alpha1)*sin(alpha3)*sin(theta2)*sin(theta3),                                                                                                                                                                                                                                       a2*sin(alpha1)*sin(alpha2) + a3*(sin(alpha1)*cos(alpha2)*cos(theta2) + sin(alpha2)*cos(alpha1))*sin(alpha3) + a3*sin(alpha1)*sin(theta2)*cos(theta3) + d1 + d2*cos(alpha1) - d3*(sin(alpha1)*sin(alpha2)*cos(theta2) - cos(alpha1)*cos(alpha2))],\n",
       "[                                                                                                                                                                                                                        0,                                                                                                                                                                                                                                                                                                                                                                                            0,                                                                                                                                                                                                                                                                                                                                                                                             0,                                                                                                                                                                                                                                                                                                                                                                                                                                                                                     1]])"
      ]
     },
     "execution_count": 6,
     "metadata": {},
     "output_type": "execute_result"
    }
   ],
   "source": [
    "#simplifing T\n",
    "sympy.simplify(T)"
   ]
  },
  {
   "cell_type": "code",
   "execution_count": 7,
   "metadata": {},
   "outputs": [
    {
     "data": {
      "text/plain": [
       "[Matrix([\n",
       " [cos(theta1), -sin(theta1)*cos(alpha1),  sin(alpha1)*sin(theta1), a1*cos(theta1)],\n",
       " [sin(theta1),  cos(alpha1)*cos(theta1), -sin(alpha1)*cos(theta1), a1*sin(alpha1)],\n",
       " [          0,              sin(alpha1),              cos(alpha1),             d1],\n",
       " [          0,                        0,                        0,              1]]),\n",
       " Matrix([\n",
       " [cos(theta2), -sin(theta2)*cos(alpha2),  sin(alpha2)*sin(theta2), a2*cos(theta2)],\n",
       " [sin(theta2),  cos(alpha2)*cos(theta2), -sin(alpha2)*cos(theta2), a2*sin(alpha2)],\n",
       " [          0,              sin(alpha2),              cos(alpha2),             d2],\n",
       " [          0,                        0,                        0,              1]]),\n",
       " Matrix([\n",
       " [cos(theta3), -sin(theta3)*cos(alpha3),  sin(alpha3)*sin(theta3), a3*cos(theta3)],\n",
       " [sin(theta3),  cos(alpha3)*cos(theta3), -sin(alpha3)*cos(theta3), a3*sin(alpha3)],\n",
       " [          0,              sin(alpha3),              cos(alpha3),             d3],\n",
       " [          0,                        0,                        0,              1]])]"
      ]
     },
     "execution_count": 7,
     "metadata": {},
     "output_type": "execute_result"
    }
   ],
   "source": [
    "#to get the intermediate the transormation matrices\n",
    "mtb.T_list"
   ]
  },
  {
   "cell_type": "code",
   "execution_count": 8,
   "metadata": {},
   "outputs": [
    {
     "name": "stderr",
     "output_type": "stream",
     "text": [
      "100%|████████████████████████████████████████████| 3/3 [00:00<00:00, 170.01it/s]\n",
      "100%|█████████████████████████████████████████████| 3/3 [00:00<00:00, 53.36it/s]\n"
     ]
    }
   ],
   "source": [
    "#to get the matrix with the constants substituted\n",
    "T1 = mtb.calc_dh_matrix()"
   ]
  },
  {
   "cell_type": "code",
   "execution_count": 9,
   "metadata": {},
   "outputs": [],
   "source": [
    "T2 = sympy.simplify(T1)"
   ]
  },
  {
   "cell_type": "code",
   "execution_count": 10,
   "metadata": {},
   "outputs": [
    {
     "data": {
      "text/latex": [
       "$\\displaystyle \\left[\\begin{matrix}- \\sin{\\left(\\theta_{1} + \\theta_{2} + \\frac{\\pi}{3} \\right)} & - \\cos{\\left(\\alpha_{3} \\right)} \\cos{\\left(\\theta_{1} + \\theta_{2} + \\frac{\\pi}{3} \\right)} & \\sin{\\left(\\alpha_{3} \\right)} \\cos{\\left(\\theta_{1} + \\theta_{2} + \\frac{\\pi}{3} \\right)} & \\left(0.467 - 0.4005 \\sin{\\left(\\theta_{2} \\right)}\\right) \\cos{\\left(\\theta_{1} \\right)}\\\\\\cos{\\left(\\theta_{1} + \\theta_{2} + \\frac{\\pi}{3} \\right)} & - \\sin{\\left(\\theta_{1} + \\theta_{2} + \\frac{\\pi}{3} \\right)} \\cos{\\left(\\alpha_{3} \\right)} & \\sin{\\left(\\alpha_{3} \\right)} \\sin{\\left(\\theta_{1} + \\theta_{2} + \\frac{\\pi}{3} \\right)} & - 0.4005 \\sin{\\left(\\theta_{1} \\right)} \\sin{\\left(\\theta_{2} \\right)}\\\\0 & \\sin{\\left(\\alpha_{3} \\right)} & \\cos{\\left(\\alpha_{3} \\right)} & 0.2\\\\0 & 0 & 0 & 1\\end{matrix}\\right]$"
      ],
      "text/plain": [
       "Matrix([\n",
       "[-sin(theta1 + theta2 + pi/3), -cos(alpha3)*cos(theta1 + theta2 + pi/3), sin(alpha3)*cos(theta1 + theta2 + pi/3), (0.467 - 0.4005*sin(theta2))*cos(theta1)],\n",
       "[ cos(theta1 + theta2 + pi/3), -sin(theta1 + theta2 + pi/3)*cos(alpha3), sin(alpha3)*sin(theta1 + theta2 + pi/3),          -0.4005*sin(theta1)*sin(theta2)],\n",
       "[                           0,                              sin(alpha3),                             cos(alpha3),                                      0.2],\n",
       "[                           0,                                        0,                                       0,                                        1]])"
      ]
     },
     "execution_count": 10,
     "metadata": {},
     "output_type": "execute_result"
    }
   ],
   "source": [
    "T2"
   ]
  },
  {
   "cell_type": "code",
   "execution_count": 11,
   "metadata": {},
   "outputs": [
    {
     "data": {
      "text/latex": [
       "\\left[\\begin{matrix}- \\sin{\\left(\\theta_{1} + \\theta_{2} + \\frac{\\pi}{3} \\right)} & - \\cos{\\left(\\alpha_{3} \\right)} \\cos{\\left(\\theta_{1} + \\theta_{2} + \\frac{\\pi}{3} \\right)} & \\sin{\\left(\\alpha_{3} \\right)} \\cos{\\left(\\theta_{1} + \\theta_{2} + \\frac{\\pi}{3} \\right)} & \\left(0.467 - 0.4005 \\sin{\\left(\\theta_{2} \\right)}\\right) \\cos{\\left(\\theta_{1} \\right)}\\\\\\cos{\\left(\\theta_{1} + \\theta_{2} + \\frac{\\pi}{3} \\right)} & - \\sin{\\left(\\theta_{1} + \\theta_{2} + \\frac{\\pi}{3} \\right)} \\cos{\\left(\\alpha_{3} \\right)} & \\sin{\\left(\\alpha_{3} \\right)} \\sin{\\left(\\theta_{1} + \\theta_{2} + \\frac{\\pi}{3} \\right)} & - 0.4005 \\sin{\\left(\\theta_{1} \\right)} \\sin{\\left(\\theta_{2} \\right)}\\\\0 & \\sin{\\left(\\alpha_{3} \\right)} & \\cos{\\left(\\alpha_{3} \\right)} & 0.2\\\\0 & 0 & 0 & 1\\end{matrix}\\right]"
      ],
      "text/plain": [
       "<IPython.core.display.Latex object>"
      ]
     },
     "execution_count": 11,
     "metadata": {},
     "output_type": "execute_result"
    }
   ],
   "source": [
    "#printing T2 in latex \n",
    "a = sympy.latex(T2)\n",
    "Latex(a)"
   ]
  },
  {
   "cell_type": "code",
   "execution_count": 15,
   "metadata": {},
   "outputs": [],
   "source": [
    "#to substitute with the variables and return a numpy array of floats, all variables must be subistituted\n",
    "arr = mtb.get_numpy_matrix([ [\"theta1\", sympy.pi/2], [\"theta2\", sympy.pi/3] ,[\"alpha3\", 0.5]])"
   ]
  },
  {
   "cell_type": "code",
   "execution_count": 16,
   "metadata": {},
   "outputs": [
    {
     "data": {
      "text/plain": [
       "array([[ 0.5       ,  0.76000879, -0.4151947 ,  0.        ],\n",
       "       [-0.8660254 ,  0.43879128, -0.23971277, -0.34684317],\n",
       "       [ 0.        ,  0.47942554,  0.87758256,  0.2       ],\n",
       "       [ 0.        ,  0.        ,  0.        ,  1.        ]])"
      ]
     },
     "execution_count": 16,
     "metadata": {},
     "output_type": "execute_result"
    }
   ],
   "source": [
    "arr"
   ]
  },
  {
   "cell_type": "markdown",
   "metadata": {},
   "source": [
    "to call obj.get_numpy_matrix() you have to at least have called obj.calc_dh_matrix() and of coarse added your parameters :D"
   ]
  },
  {
   "cell_type": "code",
   "execution_count": null,
   "metadata": {},
   "outputs": [],
   "source": []
  }
 ],
 "metadata": {
  "kernelspec": {
   "display_name": "Python 3 (ipykernel)",
   "language": "python",
   "name": "python3"
  },
  "language_info": {
   "codemirror_mode": {
    "name": "ipython",
    "version": 3
   },
   "file_extension": ".py",
   "mimetype": "text/x-python",
   "name": "python",
   "nbconvert_exporter": "python",
   "pygments_lexer": "ipython3",
   "version": "3.8.10"
  }
 },
 "nbformat": 4,
 "nbformat_minor": 2
}
