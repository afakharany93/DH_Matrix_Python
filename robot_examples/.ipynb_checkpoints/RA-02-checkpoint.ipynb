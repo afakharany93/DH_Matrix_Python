{
 "cells": [
  {
   "cell_type": "markdown",
   "metadata": {},
   "source": [
    "# DH matrix for the RA-02 4DOF Robot\n",
    "The dh paramters can be found in this [paper](https://www.researchgate.net/publication/279201859_Kinematics_Modeling_of_a_4-DOF_Robotic_Arm)\n"
   ]
  },
  {
   "cell_type": "code",
   "execution_count": 1,
   "metadata": {},
   "outputs": [
    {
     "data": {
      "application/javascript": [
       "IPython.notebook.set_autosave_interval(120000)"
      ]
     },
     "metadata": {},
     "output_type": "display_data"
    },
    {
     "name": "stdout",
     "output_type": "stream",
     "text": [
      "Autosaving every 120 seconds\n"
     ]
    }
   ],
   "source": [
    "%autosave 120\n",
    "#Robot links lengths in meters\n",
    "L1 = 11.5e-2\n",
    "L2 = 12e-2\n",
    "L3 = 9e-2\n",
    "L4 = 9e-2"
   ]
  },
  {
   "cell_type": "code",
   "execution_count": 2,
   "metadata": {
    "scrolled": true
   },
   "outputs": [],
   "source": [
    "import sys\n",
    "sys.path.append('../')\n",
    "from dh import dh_solver\n",
    "#create an object \n",
    "ra02 = dh_solver()"
   ]
  },
  {
   "cell_type": "code",
   "execution_count": 3,
   "metadata": {},
   "outputs": [],
   "source": [
    "import sympy\n",
    "from sympy import Symbol\n",
    "\n",
    "#adding the dh parameters in this order [ d, theta, a, alpha]\n",
    "ra02.add([L1    ,    Symbol(\"theta1\"),     0 ,     sympy.pi/2   ])\n",
    "ra02.add([0     ,    Symbol(\"theta2\"),     L2,     0            ])\n",
    "ra02.add([0     ,    Symbol(\"theta3\"),     L3,     0            ])\n",
    "ra02.add([0     ,    Symbol(\"theta4\"),     L4,     0            ])\n",
    "\n"
   ]
  },
  {
   "cell_type": "code",
   "execution_count": 4,
   "metadata": {},
   "outputs": [
    {
     "name": "stderr",
     "output_type": "stream",
     "text": [
      "100%|██████████| 4/4 [00:00<00:00, 39.46it/s]\n"
     ]
    },
    {
     "name": "stdout",
     "output_type": "stream",
     "text": [
      "Matrix([[((-sin(theta1)*sin(theta2)*cos(alpha1) + cos(theta1)*cos(theta2))*cos(theta3) + (sin(alpha1)*sin(alpha2)*sin(theta1) - sin(theta1)*cos(alpha1)*cos(alpha2)*cos(theta2) - sin(theta2)*cos(alpha2)*cos(theta1))*sin(theta3))*cos(theta4) + (-(-sin(theta1)*sin(theta2)*cos(alpha1) + cos(theta1)*cos(theta2))*sin(theta3)*cos(alpha3) + (sin(alpha1)*sin(alpha2)*sin(theta1) - sin(theta1)*cos(alpha1)*cos(alpha2)*cos(theta2) - sin(theta2)*cos(alpha2)*cos(theta1))*cos(alpha3)*cos(theta3) + (sin(alpha1)*sin(theta1)*cos(alpha2) + sin(alpha2)*sin(theta1)*cos(alpha1)*cos(theta2) + sin(alpha2)*sin(theta2)*cos(theta1))*sin(alpha3))*sin(theta4), -((-sin(theta1)*sin(theta2)*cos(alpha1) + cos(theta1)*cos(theta2))*cos(theta3) + (sin(alpha1)*sin(alpha2)*sin(theta1) - sin(theta1)*cos(alpha1)*cos(alpha2)*cos(theta2) - sin(theta2)*cos(alpha2)*cos(theta1))*sin(theta3))*sin(theta4)*cos(alpha4) + ((-sin(theta1)*sin(theta2)*cos(alpha1) + cos(theta1)*cos(theta2))*sin(alpha3)*sin(theta3) - (sin(alpha1)*sin(alpha2)*sin(theta1) - sin(theta1)*cos(alpha1)*cos(alpha2)*cos(theta2) - sin(theta2)*cos(alpha2)*cos(theta1))*sin(alpha3)*cos(theta3) + (sin(alpha1)*sin(theta1)*cos(alpha2) + sin(alpha2)*sin(theta1)*cos(alpha1)*cos(theta2) + sin(alpha2)*sin(theta2)*cos(theta1))*cos(alpha3))*sin(alpha4) + (-(-sin(theta1)*sin(theta2)*cos(alpha1) + cos(theta1)*cos(theta2))*sin(theta3)*cos(alpha3) + (sin(alpha1)*sin(alpha2)*sin(theta1) - sin(theta1)*cos(alpha1)*cos(alpha2)*cos(theta2) - sin(theta2)*cos(alpha2)*cos(theta1))*cos(alpha3)*cos(theta3) + (sin(alpha1)*sin(theta1)*cos(alpha2) + sin(alpha2)*sin(theta1)*cos(alpha1)*cos(theta2) + sin(alpha2)*sin(theta2)*cos(theta1))*sin(alpha3))*cos(alpha4)*cos(theta4), ((-sin(theta1)*sin(theta2)*cos(alpha1) + cos(theta1)*cos(theta2))*cos(theta3) + (sin(alpha1)*sin(alpha2)*sin(theta1) - sin(theta1)*cos(alpha1)*cos(alpha2)*cos(theta2) - sin(theta2)*cos(alpha2)*cos(theta1))*sin(theta3))*sin(alpha4)*sin(theta4) + ((-sin(theta1)*sin(theta2)*cos(alpha1) + cos(theta1)*cos(theta2))*sin(alpha3)*sin(theta3) - (sin(alpha1)*sin(alpha2)*sin(theta1) - sin(theta1)*cos(alpha1)*cos(alpha2)*cos(theta2) - sin(theta2)*cos(alpha2)*cos(theta1))*sin(alpha3)*cos(theta3) + (sin(alpha1)*sin(theta1)*cos(alpha2) + sin(alpha2)*sin(theta1)*cos(alpha1)*cos(theta2) + sin(alpha2)*sin(theta2)*cos(theta1))*cos(alpha3))*cos(alpha4) - (-(-sin(theta1)*sin(theta2)*cos(alpha1) + cos(theta1)*cos(theta2))*sin(theta3)*cos(alpha3) + (sin(alpha1)*sin(alpha2)*sin(theta1) - sin(theta1)*cos(alpha1)*cos(alpha2)*cos(theta2) - sin(theta2)*cos(alpha2)*cos(theta1))*cos(alpha3)*cos(theta3) + (sin(alpha1)*sin(theta1)*cos(alpha2) + sin(alpha2)*sin(theta1)*cos(alpha1)*cos(theta2) + sin(alpha2)*sin(theta2)*cos(theta1))*sin(alpha3))*sin(alpha4)*cos(theta4), a1*cos(theta1) - a2*sin(alpha2)*sin(theta1)*cos(alpha1) + a2*cos(theta1)*cos(theta2) + a3*(-sin(theta1)*sin(theta2)*cos(alpha1) + cos(theta1)*cos(theta2))*cos(theta3) + a3*(sin(alpha1)*sin(alpha2)*sin(theta1) - sin(theta1)*cos(alpha1)*cos(alpha2)*cos(theta2) - sin(theta2)*cos(alpha2)*cos(theta1))*sin(alpha3) + a4*((-sin(theta1)*sin(theta2)*cos(alpha1) + cos(theta1)*cos(theta2))*cos(theta3) + (sin(alpha1)*sin(alpha2)*sin(theta1) - sin(theta1)*cos(alpha1)*cos(alpha2)*cos(theta2) - sin(theta2)*cos(alpha2)*cos(theta1))*sin(theta3))*cos(theta4) + a4*(-(-sin(theta1)*sin(theta2)*cos(alpha1) + cos(theta1)*cos(theta2))*sin(theta3)*cos(alpha3) + (sin(alpha1)*sin(alpha2)*sin(theta1) - sin(theta1)*cos(alpha1)*cos(alpha2)*cos(theta2) - sin(theta2)*cos(alpha2)*cos(theta1))*cos(alpha3)*cos(theta3) + (sin(alpha1)*sin(theta1)*cos(alpha2) + sin(alpha2)*sin(theta1)*cos(alpha1)*cos(theta2) + sin(alpha2)*sin(theta2)*cos(theta1))*sin(alpha3))*sin(alpha4) + d2*sin(alpha1)*sin(theta1) + d3*(sin(alpha1)*sin(theta1)*cos(alpha2) + sin(alpha2)*sin(theta1)*cos(alpha1)*cos(theta2) + sin(alpha2)*sin(theta2)*cos(theta1)) + d4*((-sin(theta1)*sin(theta2)*cos(alpha1) + cos(theta1)*cos(theta2))*sin(alpha3)*sin(theta3) - (sin(alpha1)*sin(alpha2)*sin(theta1) - sin(theta1)*cos(alpha1)*cos(alpha2)*cos(theta2) - sin(theta2)*cos(alpha2)*cos(theta1))*sin(alpha3)*cos(theta3) + (sin(alpha1)*sin(theta1)*cos(alpha2) + sin(alpha2)*sin(theta1)*cos(alpha1)*cos(theta2) + sin(alpha2)*sin(theta2)*cos(theta1))*cos(alpha3))], [((sin(theta1)*cos(theta2) + sin(theta2)*cos(alpha1)*cos(theta1))*cos(theta3) + (-sin(alpha1)*sin(alpha2)*cos(theta1) - sin(theta1)*sin(theta2)*cos(alpha2) + cos(alpha1)*cos(alpha2)*cos(theta1)*cos(theta2))*sin(theta3))*cos(theta4) + (-(sin(theta1)*cos(theta2) + sin(theta2)*cos(alpha1)*cos(theta1))*sin(theta3)*cos(alpha3) + (-sin(alpha1)*sin(alpha2)*cos(theta1) - sin(theta1)*sin(theta2)*cos(alpha2) + cos(alpha1)*cos(alpha2)*cos(theta1)*cos(theta2))*cos(alpha3)*cos(theta3) + (-sin(alpha1)*cos(alpha2)*cos(theta1) + sin(alpha2)*sin(theta1)*sin(theta2) - sin(alpha2)*cos(alpha1)*cos(theta1)*cos(theta2))*sin(alpha3))*sin(theta4), -((sin(theta1)*cos(theta2) + sin(theta2)*cos(alpha1)*cos(theta1))*cos(theta3) + (-sin(alpha1)*sin(alpha2)*cos(theta1) - sin(theta1)*sin(theta2)*cos(alpha2) + cos(alpha1)*cos(alpha2)*cos(theta1)*cos(theta2))*sin(theta3))*sin(theta4)*cos(alpha4) + ((sin(theta1)*cos(theta2) + sin(theta2)*cos(alpha1)*cos(theta1))*sin(alpha3)*sin(theta3) - (-sin(alpha1)*sin(alpha2)*cos(theta1) - sin(theta1)*sin(theta2)*cos(alpha2) + cos(alpha1)*cos(alpha2)*cos(theta1)*cos(theta2))*sin(alpha3)*cos(theta3) + (-sin(alpha1)*cos(alpha2)*cos(theta1) + sin(alpha2)*sin(theta1)*sin(theta2) - sin(alpha2)*cos(alpha1)*cos(theta1)*cos(theta2))*cos(alpha3))*sin(alpha4) + (-(sin(theta1)*cos(theta2) + sin(theta2)*cos(alpha1)*cos(theta1))*sin(theta3)*cos(alpha3) + (-sin(alpha1)*sin(alpha2)*cos(theta1) - sin(theta1)*sin(theta2)*cos(alpha2) + cos(alpha1)*cos(alpha2)*cos(theta1)*cos(theta2))*cos(alpha3)*cos(theta3) + (-sin(alpha1)*cos(alpha2)*cos(theta1) + sin(alpha2)*sin(theta1)*sin(theta2) - sin(alpha2)*cos(alpha1)*cos(theta1)*cos(theta2))*sin(alpha3))*cos(alpha4)*cos(theta4), ((sin(theta1)*cos(theta2) + sin(theta2)*cos(alpha1)*cos(theta1))*cos(theta3) + (-sin(alpha1)*sin(alpha2)*cos(theta1) - sin(theta1)*sin(theta2)*cos(alpha2) + cos(alpha1)*cos(alpha2)*cos(theta1)*cos(theta2))*sin(theta3))*sin(alpha4)*sin(theta4) + ((sin(theta1)*cos(theta2) + sin(theta2)*cos(alpha1)*cos(theta1))*sin(alpha3)*sin(theta3) - (-sin(alpha1)*sin(alpha2)*cos(theta1) - sin(theta1)*sin(theta2)*cos(alpha2) + cos(alpha1)*cos(alpha2)*cos(theta1)*cos(theta2))*sin(alpha3)*cos(theta3) + (-sin(alpha1)*cos(alpha2)*cos(theta1) + sin(alpha2)*sin(theta1)*sin(theta2) - sin(alpha2)*cos(alpha1)*cos(theta1)*cos(theta2))*cos(alpha3))*cos(alpha4) - (-(sin(theta1)*cos(theta2) + sin(theta2)*cos(alpha1)*cos(theta1))*sin(theta3)*cos(alpha3) + (-sin(alpha1)*sin(alpha2)*cos(theta1) - sin(theta1)*sin(theta2)*cos(alpha2) + cos(alpha1)*cos(alpha2)*cos(theta1)*cos(theta2))*cos(alpha3)*cos(theta3) + (-sin(alpha1)*cos(alpha2)*cos(theta1) + sin(alpha2)*sin(theta1)*sin(theta2) - sin(alpha2)*cos(alpha1)*cos(theta1)*cos(theta2))*sin(alpha3))*sin(alpha4)*cos(theta4), a1*sin(alpha1) + a2*sin(alpha2)*cos(alpha1)*cos(theta1) + a2*sin(theta1)*cos(theta2) + a3*(sin(theta1)*cos(theta2) + sin(theta2)*cos(alpha1)*cos(theta1))*cos(theta3) + a3*(-sin(alpha1)*sin(alpha2)*cos(theta1) - sin(theta1)*sin(theta2)*cos(alpha2) + cos(alpha1)*cos(alpha2)*cos(theta1)*cos(theta2))*sin(alpha3) + a4*((sin(theta1)*cos(theta2) + sin(theta2)*cos(alpha1)*cos(theta1))*cos(theta3) + (-sin(alpha1)*sin(alpha2)*cos(theta1) - sin(theta1)*sin(theta2)*cos(alpha2) + cos(alpha1)*cos(alpha2)*cos(theta1)*cos(theta2))*sin(theta3))*cos(theta4) + a4*(-(sin(theta1)*cos(theta2) + sin(theta2)*cos(alpha1)*cos(theta1))*sin(theta3)*cos(alpha3) + (-sin(alpha1)*sin(alpha2)*cos(theta1) - sin(theta1)*sin(theta2)*cos(alpha2) + cos(alpha1)*cos(alpha2)*cos(theta1)*cos(theta2))*cos(alpha3)*cos(theta3) + (-sin(alpha1)*cos(alpha2)*cos(theta1) + sin(alpha2)*sin(theta1)*sin(theta2) - sin(alpha2)*cos(alpha1)*cos(theta1)*cos(theta2))*sin(alpha3))*sin(alpha4) - d2*sin(alpha1)*cos(theta1) + d3*(-sin(alpha1)*cos(alpha2)*cos(theta1) + sin(alpha2)*sin(theta1)*sin(theta2) - sin(alpha2)*cos(alpha1)*cos(theta1)*cos(theta2)) + d4*((sin(theta1)*cos(theta2) + sin(theta2)*cos(alpha1)*cos(theta1))*sin(alpha3)*sin(theta3) - (-sin(alpha1)*sin(alpha2)*cos(theta1) - sin(theta1)*sin(theta2)*cos(alpha2) + cos(alpha1)*cos(alpha2)*cos(theta1)*cos(theta2))*sin(alpha3)*cos(theta3) + (-sin(alpha1)*cos(alpha2)*cos(theta1) + sin(alpha2)*sin(theta1)*sin(theta2) - sin(alpha2)*cos(alpha1)*cos(theta1)*cos(theta2))*cos(alpha3))], [((sin(alpha1)*cos(alpha2)*cos(theta2) + sin(alpha2)*cos(alpha1))*sin(theta3) + sin(alpha1)*sin(theta2)*cos(theta3))*cos(theta4) + ((-sin(alpha1)*sin(alpha2)*cos(theta2) + cos(alpha1)*cos(alpha2))*sin(alpha3) + (sin(alpha1)*cos(alpha2)*cos(theta2) + sin(alpha2)*cos(alpha1))*cos(alpha3)*cos(theta3) - sin(alpha1)*sin(theta2)*sin(theta3)*cos(alpha3))*sin(theta4), -((sin(alpha1)*cos(alpha2)*cos(theta2) + sin(alpha2)*cos(alpha1))*sin(theta3) + sin(alpha1)*sin(theta2)*cos(theta3))*sin(theta4)*cos(alpha4) + ((-sin(alpha1)*sin(alpha2)*cos(theta2) + cos(alpha1)*cos(alpha2))*sin(alpha3) + (sin(alpha1)*cos(alpha2)*cos(theta2) + sin(alpha2)*cos(alpha1))*cos(alpha3)*cos(theta3) - sin(alpha1)*sin(theta2)*sin(theta3)*cos(alpha3))*cos(alpha4)*cos(theta4) + ((-sin(alpha1)*sin(alpha2)*cos(theta2) + cos(alpha1)*cos(alpha2))*cos(alpha3) - (sin(alpha1)*cos(alpha2)*cos(theta2) + sin(alpha2)*cos(alpha1))*sin(alpha3)*cos(theta3) + sin(alpha1)*sin(alpha3)*sin(theta2)*sin(theta3))*sin(alpha4), ((sin(alpha1)*cos(alpha2)*cos(theta2) + sin(alpha2)*cos(alpha1))*sin(theta3) + sin(alpha1)*sin(theta2)*cos(theta3))*sin(alpha4)*sin(theta4) - ((-sin(alpha1)*sin(alpha2)*cos(theta2) + cos(alpha1)*cos(alpha2))*sin(alpha3) + (sin(alpha1)*cos(alpha2)*cos(theta2) + sin(alpha2)*cos(alpha1))*cos(alpha3)*cos(theta3) - sin(alpha1)*sin(theta2)*sin(theta3)*cos(alpha3))*sin(alpha4)*cos(theta4) + ((-sin(alpha1)*sin(alpha2)*cos(theta2) + cos(alpha1)*cos(alpha2))*cos(alpha3) - (sin(alpha1)*cos(alpha2)*cos(theta2) + sin(alpha2)*cos(alpha1))*sin(alpha3)*cos(theta3) + sin(alpha1)*sin(alpha3)*sin(theta2)*sin(theta3))*cos(alpha4), a2*sin(alpha1)*sin(alpha2) + a3*(sin(alpha1)*cos(alpha2)*cos(theta2) + sin(alpha2)*cos(alpha1))*sin(alpha3) + a3*sin(alpha1)*sin(theta2)*cos(theta3) + a4*((sin(alpha1)*cos(alpha2)*cos(theta2) + sin(alpha2)*cos(alpha1))*sin(theta3) + sin(alpha1)*sin(theta2)*cos(theta3))*cos(theta4) + a4*((-sin(alpha1)*sin(alpha2)*cos(theta2) + cos(alpha1)*cos(alpha2))*sin(alpha3) + (sin(alpha1)*cos(alpha2)*cos(theta2) + sin(alpha2)*cos(alpha1))*cos(alpha3)*cos(theta3) - sin(alpha1)*sin(theta2)*sin(theta3)*cos(alpha3))*sin(alpha4) + d1 + d2*cos(alpha1) + d3*(-sin(alpha1)*sin(alpha2)*cos(theta2) + cos(alpha1)*cos(alpha2)) + d4*((-sin(alpha1)*sin(alpha2)*cos(theta2) + cos(alpha1)*cos(alpha2))*cos(alpha3) - (sin(alpha1)*cos(alpha2)*cos(theta2) + sin(alpha2)*cos(alpha1))*sin(alpha3)*cos(theta3) + sin(alpha1)*sin(alpha3)*sin(theta2)*sin(theta3))], [0, 0, 0, 1]])\n"
     ]
    }
   ],
   "source": [
    "#to get the dh matrices in symbolic form\n",
    "T = ra02.calc_symbolic_matrices()\n",
    "print(T)"
   ]
  },
  {
   "cell_type": "code",
   "execution_count": 5,
   "metadata": {},
   "outputs": [
    {
     "data": {
      "text/plain": [
       "[Matrix([\n",
       " [cos(theta1), -sin(theta1)*cos(alpha1),  sin(alpha1)*sin(theta1), a1*cos(theta1)],\n",
       " [sin(theta1),  cos(alpha1)*cos(theta1), -sin(alpha1)*cos(theta1), a1*sin(alpha1)],\n",
       " [          0,              sin(alpha1),              cos(alpha1),             d1],\n",
       " [          0,                        0,                        0,              1]]),\n",
       " Matrix([\n",
       " [cos(theta2), -sin(theta2)*cos(alpha2),  sin(alpha2)*sin(theta2), a2*cos(theta2)],\n",
       " [sin(theta2),  cos(alpha2)*cos(theta2), -sin(alpha2)*cos(theta2), a2*sin(alpha2)],\n",
       " [          0,              sin(alpha2),              cos(alpha2),             d2],\n",
       " [          0,                        0,                        0,              1]]),\n",
       " Matrix([\n",
       " [cos(theta3), -sin(theta3)*cos(alpha3),  sin(alpha3)*sin(theta3), a3*cos(theta3)],\n",
       " [sin(theta3),  cos(alpha3)*cos(theta3), -sin(alpha3)*cos(theta3), a3*sin(alpha3)],\n",
       " [          0,              sin(alpha3),              cos(alpha3),             d3],\n",
       " [          0,                        0,                        0,              1]]),\n",
       " Matrix([\n",
       " [cos(theta4), -sin(theta4)*cos(alpha4),  sin(alpha4)*sin(theta4), a4*cos(theta4)],\n",
       " [sin(theta4),  cos(alpha4)*cos(theta4), -sin(alpha4)*cos(theta4), a4*sin(alpha4)],\n",
       " [          0,              sin(alpha4),              cos(alpha4),             d4],\n",
       " [          0,                        0,                        0,              1]])]"
      ]
     },
     "execution_count": 5,
     "metadata": {},
     "output_type": "execute_result"
    }
   ],
   "source": [
    "ra02.T_list"
   ]
  },
  {
   "cell_type": "code",
   "execution_count": 6,
   "metadata": {},
   "outputs": [
    {
     "name": "stderr",
     "output_type": "stream",
     "text": [
      "100%|██████████| 4/4 [00:00<00:00, 1772.37it/s]\n",
      "100%|██████████| 4/4 [00:00<00:00, 13.75it/s]"
     ]
    },
    {
     "name": "stdout",
     "output_type": "stream",
     "text": [
      "Matrix([[(-sin(theta2)*sin(theta3)*cos(theta1) + cos(theta1)*cos(theta2)*cos(theta3))*cos(theta4) + (-sin(theta2)*cos(theta1)*cos(theta3) - sin(theta3)*cos(theta1)*cos(theta2))*sin(theta4), -(-sin(theta2)*sin(theta3)*cos(theta1) + cos(theta1)*cos(theta2)*cos(theta3))*sin(theta4) + (-sin(theta2)*cos(theta1)*cos(theta3) - sin(theta3)*cos(theta1)*cos(theta2))*cos(theta4), sin(theta1), 0.09*(-sin(theta2)*sin(theta3)*cos(theta1) + cos(theta1)*cos(theta2)*cos(theta3))*cos(theta4) + 0.09*cos(theta1)*cos(theta2)*cos(theta3) + 0.12*cos(theta1)*cos(theta2)], [(-sin(theta1)*sin(theta2)*sin(theta3) + sin(theta1)*cos(theta2)*cos(theta3))*cos(theta4) + (-sin(theta1)*sin(theta2)*cos(theta3) - sin(theta1)*sin(theta3)*cos(theta2))*sin(theta4), -(-sin(theta1)*sin(theta2)*sin(theta3) + sin(theta1)*cos(theta2)*cos(theta3))*sin(theta4) + (-sin(theta1)*sin(theta2)*cos(theta3) - sin(theta1)*sin(theta3)*cos(theta2))*cos(theta4), -cos(theta1), 0.09*(-sin(theta1)*sin(theta2)*sin(theta3) + sin(theta1)*cos(theta2)*cos(theta3))*cos(theta4) + 0.09*sin(theta1)*cos(theta2)*cos(theta3) + 0.12*sin(theta1)*cos(theta2)], [(-sin(theta2)*sin(theta3) + cos(theta2)*cos(theta3))*sin(theta4) + (sin(theta2)*cos(theta3) + sin(theta3)*cos(theta2))*cos(theta4), (-sin(theta2)*sin(theta3) + cos(theta2)*cos(theta3))*cos(theta4) - (sin(theta2)*cos(theta3) + sin(theta3)*cos(theta2))*sin(theta4), 0, 0.09*(sin(theta2)*cos(theta3) + sin(theta3)*cos(theta2))*cos(theta4) + 0.09*sin(theta2)*cos(theta3) + 0.115], [0, 0, 0, 1]])\n"
     ]
    },
    {
     "name": "stderr",
     "output_type": "stream",
     "text": [
      "\n"
     ]
    }
   ],
   "source": [
    "T1 = ra02.calc_dh_matrix()\n",
    "print(T1)"
   ]
  },
  {
   "cell_type": "code",
   "execution_count": 7,
   "metadata": {},
   "outputs": [
    {
     "name": "stdout",
     "output_type": "stream",
     "text": [
      "Matrix([[cos(theta1)*cos(theta2 + theta3 + theta4), -sin(theta2 + theta3 + theta4)*cos(theta1), sin(theta1), (0.09*cos(theta2)*cos(theta3) + 0.12*cos(theta2) + 0.09*cos(theta4)*cos(theta2 + theta3))*cos(theta1)], [sin(theta1)*cos(theta2 + theta3 + theta4), -sin(theta1)*sin(theta2 + theta3 + theta4), -cos(theta1), (0.09*cos(theta2)*cos(theta3) + 0.12*cos(theta2) + 0.09*cos(theta4)*cos(theta2 + theta3))*sin(theta1)], [sin(theta2 + theta3 + theta4), cos(theta2 + theta3 + theta4), 0, 0.09*sin(theta2)*cos(theta3) + 0.09*sin(theta2 + theta3)*cos(theta4) + 0.115], [0, 0, 0, 1]])\n"
     ]
    }
   ],
   "source": [
    "T2 = sympy.simplify(T1)\n",
    "print(T2)"
   ]
  },
  {
   "cell_type": "code",
   "execution_count": 8,
   "metadata": {},
   "outputs": [
    {
     "data": {
      "text/latex": [
       "\\left[\\begin{matrix}\\cos{\\left (\\theta_{1} \\right )} \\cos{\\left (\\theta_{2} + \\theta_{3} + \\theta_{4} \\right )} & - \\sin{\\left (\\theta_{2} + \\theta_{3} + \\theta_{4} \\right )} \\cos{\\left (\\theta_{1} \\right )} & \\sin{\\left (\\theta_{1} \\right )} & \\left(0.09 \\cos{\\left (\\theta_{2} \\right )} \\cos{\\left (\\theta_{3} \\right )} + 0.12 \\cos{\\left (\\theta_{2} \\right )} + 0.09 \\cos{\\left (\\theta_{4} \\right )} \\cos{\\left (\\theta_{2} + \\theta_{3} \\right )}\\right) \\cos{\\left (\\theta_{1} \\right )}\\\\\\sin{\\left (\\theta_{1} \\right )} \\cos{\\left (\\theta_{2} + \\theta_{3} + \\theta_{4} \\right )} & - \\sin{\\left (\\theta_{1} \\right )} \\sin{\\left (\\theta_{2} + \\theta_{3} + \\theta_{4} \\right )} & - \\cos{\\left (\\theta_{1} \\right )} & \\left(0.09 \\cos{\\left (\\theta_{2} \\right )} \\cos{\\left (\\theta_{3} \\right )} + 0.12 \\cos{\\left (\\theta_{2} \\right )} + 0.09 \\cos{\\left (\\theta_{4} \\right )} \\cos{\\left (\\theta_{2} + \\theta_{3} \\right )}\\right) \\sin{\\left (\\theta_{1} \\right )}\\\\\\sin{\\left (\\theta_{2} + \\theta_{3} + \\theta_{4} \\right )} & \\cos{\\left (\\theta_{2} + \\theta_{3} + \\theta_{4} \\right )} & 0 & 0.09 \\sin{\\left (\\theta_{2} \\right )} \\cos{\\left (\\theta_{3} \\right )} + 0.09 \\sin{\\left (\\theta_{2} + \\theta_{3} \\right )} \\cos{\\left (\\theta_{4} \\right )} + 0.115\\\\0 & 0 & 0 & 1\\end{matrix}\\right]"
      ],
      "text/plain": [
       "<IPython.core.display.Latex object>"
      ]
     },
     "execution_count": 8,
     "metadata": {},
     "output_type": "execute_result"
    }
   ],
   "source": [
    "from IPython.display import Latex \n",
    "a = sympy.latex(T2)\n",
    "Latex(a)"
   ]
  },
  {
   "cell_type": "code",
   "execution_count": 9,
   "metadata": {},
   "outputs": [
    {
     "name": "stdout",
     "output_type": "stream",
     "text": [
      "( 0 , 0 )\n",
      "cos(theta1)*cos(theta2 + theta3 + theta4)\n",
      "( 0 , 1 )\n",
      "-sin(theta2 + theta3 + theta4)*cos(theta1)\n",
      "( 0 , 2 )\n",
      "sin(theta1)\n",
      "( 0 , 3 )\n",
      "(0.09*cos(theta2)*cos(theta3) + 0.12*cos(theta2) + 0.09*cos(theta4)*cos(theta2 + theta3))*cos(theta1)\n",
      "( 1 , 0 )\n",
      "sin(theta1)*cos(theta2 + theta3 + theta4)\n",
      "( 1 , 1 )\n",
      "-sin(theta1)*sin(theta2 + theta3 + theta4)\n",
      "( 1 , 2 )\n",
      "-cos(theta1)\n",
      "( 1 , 3 )\n",
      "(0.09*cos(theta2)*cos(theta3) + 0.12*cos(theta2) + 0.09*cos(theta4)*cos(theta2 + theta3))*sin(theta1)\n",
      "( 2 , 0 )\n",
      "sin(theta2 + theta3 + theta4)\n",
      "( 2 , 1 )\n",
      "cos(theta2 + theta3 + theta4)\n",
      "( 2 , 2 )\n",
      "0\n",
      "( 2 , 3 )\n",
      "0.09*sin(theta2)*cos(theta3) + 0.09*sin(theta2 + theta3)*cos(theta4) + 0.115\n",
      "( 3 , 0 )\n",
      "0\n",
      "( 3 , 1 )\n",
      "0\n",
      "( 3 , 2 )\n",
      "0\n",
      "( 3 , 3 )\n",
      "1\n"
     ]
    }
   ],
   "source": [
    "#makes it easier to copy and paste by each element alone of T2\n",
    "for i in range(4):\n",
    "    for j in range(4):\n",
    "        print(\"( {} , {} )\".format(i,j))\n",
    "        print(T2[i,j])"
   ]
  },
  {
   "cell_type": "code",
   "execution_count": null,
   "metadata": {},
   "outputs": [],
   "source": []
  }
 ],
 "metadata": {
  "kernelspec": {
   "display_name": "Python 3",
   "language": "python",
   "name": "python3"
  },
  "language_info": {
   "codemirror_mode": {
    "name": "ipython",
    "version": 3
   },
   "file_extension": ".py",
   "mimetype": "text/x-python",
   "name": "python",
   "nbconvert_exporter": "python",
   "pygments_lexer": "ipython3",
   "version": "3.5.2"
  }
 },
 "nbformat": 4,
 "nbformat_minor": 2
}
